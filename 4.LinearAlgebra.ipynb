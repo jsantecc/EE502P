{
 "cells": [
  {
   "cell_type": "markdown",
   "metadata": {},
   "source": [
    "EE 502 P: Analytical Methods\n",
    "# 4. Linear Algebra\n",
    "## Prof. Eric Klavins, Electrical and Computer Engineering\n",
    "### 25 September, 2019\n",
    "Copyright &copy; 2019, University of Washington"
   ]
  },
  {
   "cell_type": "markdown",
   "metadata": {
    "collapsed": true
   },
   "source": [
    "**Topics**\n",
    "\n",
    "- Basics\n",
    "    - Vector spaces\n",
    "    - Matrices\n",
    "    - Matrices as transformations\n",
    "        - Rotations\n",
    "        - Reflections\n",
    "        - Sheer\n",
    "        - Projections\n",
    "        - Data\n",
    "        - Images\n",
    "        - Networks\n",
    "    - Determinants\n",
    "    - Rank\n",
    "    - Inverses\n",
    "    - Non-singularity tests, including determinant\n",
    "    - Inner products and orthogonality\n",
    "    - Orthogonal matrices\n",
    "- Eigenvalues\n",
    "    - Definitions\n",
    "    - Characteristic polynomial\n",
    "    - Similarity\n",
    "    - Eigenvectors\n",
    "    - Diagonalization\n",
    "- Jordan Canonical Form\n",
    "    - Jordan form\n",
    "- The Cayley-Hamilton Theorem\n",
    "    - The minimal polynomial    \n",
    "- The Matrix Exponential\n",
    "    - Definition\n",
    "    - Example\n",
    "    - Using similarity to compute\n",
    "- Singular value decomposition\n",
    "    - Definitions\n",
    "    - Example\n",
    "    - Use in matrix approximation\n",
    "    - Use in least squares\n",
    "    - Principle component analysis"
   ]
  },
  {
   "cell_type": "code",
   "execution_count": 1,
   "metadata": {
    "ExecuteTime": {
     "end_time": "2019-10-22T02:36:50.654403Z",
     "start_time": "2019-10-22T02:36:49.179720Z"
    },
    "collapsed": true
   },
   "outputs": [],
   "source": [
    "import math\n",
    "import scipy # Has linear algebra\n",
    "import scipy.ndimage\n",
    "import numpy as np\n",
    "import sympy as sm\n",
    "sm.init_printing(use_latex='mathjax')\n",
    "import matplotlib.pyplot as plt\n",
    "import matplotlib.patches as pch\n",
    "%matplotlib inline"
   ]
  },
  {
   "cell_type": "markdown",
   "metadata": {},
   "source": [
    "## Vector Spaces"
   ]
  },
  {
   "cell_type": "markdown",
   "metadata": {},
   "source": [
    "**Def:** A **vector space** over $\\mathbb{R}$ or $\\mathbb{C}$ is a set $V$ of objects which is \n",
    "- Closed under addition: $u+v \\in V$\n",
    "- Is associative under addition: $u + (v + w) = (u+v)+w$\n",
    "- Is commutative under addition: $u+v = v+u$\n",
    "- Has an additive identity: $v + 0 = 0 + v = v$.\n",
    "- Has additive inverses: $-v \\in V$. \n",
    "- Is closed under scalar multiplication: $a v \\in V$\n",
    "- Is distributive: $a(u+v) = au + av$ and $(a+b)u = au + bu$, $a(bu)= (ab)u$\n",
    "- Has a scalar multiplicative identity: $1 e = e$. \n",
    "Assuming $u,v,w \\in V$ and $a,b \\in \\mathbb{C}$. \n",
    "\n",
    "We usually deal with $n$ dimensional finite vectors of real ($\\mathbb{R}^n$) or imaginary ($\\mathbb{C}^n$) numbers and write vectors as columns. For example\n",
    "\n",
    "$$\n",
    "v = \\left (\n",
    "\\begin{array}{c}\n",
    "1.0 \\\\\n",
    "-3.5 \\\\\n",
    "0 \\\\\n",
    "2.3\n",
    "\\end{array}\n",
    "\\right ) \\in \\mathbb{R}^4\n",
    "$$\n",
    "\n",
    "However, infinite dimensional lists of of numbers (countable or not) can also form vector spaces. \n",
    "\n",
    "Note: Since it is annoying to write vectors as columns, we often will write $v = (1\\;2\\;3\\;4)^T \\in \\mathbb{R}^4$ where the $T$ operation means \"Transpose\", taking a column vector and turning it into a row vector. More on this in the section on matrices.\n",
    "\n",
    "Things that are not vector spaces:\n",
    "- The set of positive valued vectors (with normal addition and scalar multiplication)\n",
    "- The set of of points $x,y,z \\in \\mathbb{R}^3$ such that $x+y+z=1$, because $(0,0,0)$ is not in it\n",
    "- The set of pairs of points inside the unit circle (because not all scalar multiples are in the set)\n",
    "\n",
    "**Def:** A **subspace** of $V$ is a set $U \\subseteq V$ that is also a vector space. \n",
    "\n",
    "**Example:** Let $U \\subseteq \\mathbb{R}^n$ be defined by all vectors in $\\mathbb{R}^n$ for which the first element is zero. You can check that all the conditions above apply.\n",
    "\n",
    "**Def:** The span of a set of vectors $v_1, v_2, ..., v_m \\in \\mathbb{R}^n$ is the set \n",
    "\n",
    "$$\n",
    "span(v_1, ..., v_m) = \\{ a_1 v_1 + ..., a_n v_n \\;|\\; a_i \\in \\mathbb{R} \\}\n",
    "$$\n",
    "\n",
    "**Example:** Let $u = ( 1\\; 1\\; 0 )$ and $v = ( 0 \\; 1 \\; 1)$. Then \n",
    "\n",
    "$$\n",
    "span(u,v) = \\{ \n",
    "\\left (\n",
    "\\begin{array}{c}\n",
    "a \\\\\n",
    "a+b \\\\\n",
    "b\n",
    "\\end{array}\n",
    "\\right ) \\;|\\; a, b, \\in \\mathbb{R} \\}\n",
    "$$\n",
    "\n",
    "For example, $(1 \\; 2 \\; 1)^T$ and $(-1 \\; 0 \\; 1)^T$ are in $span(u,v)$. \n",
    "\n",
    "**Thm:** The span of a set of vectors is a vector space. \n",
    "\n",
    "**Proof:** You can go through and check all the properties. For example, note that\n",
    "\n",
    "$$\n",
    "(a_1 v_1 + ..., a_n v_n) + (b_1 v_1 + ..., b_n v_n) = (a_1+b_1) v_1 + ..., (a_n+b_n) v_n\n",
    "$$\n",
    "\n",
    "since scalar multiplication is distributed for $\\mathbb{R}^n$. Thus, $span(v_1,...,v_n)$ is closed under addition. \n",
    "\n",
    "**Def:** A set of vectors $v_1,...,v_n$ is **linearly independent** if there exist scalars $a_1, ..., a_n$ that are not all zero but for which \n",
    "\n",
    "$$\n",
    "a_1 v_1 + ..., a_n v_n = 0.\n",
    "$$\n",
    "\n",
    "**Example:** Come up with two vectors in $\\mathbb{R}$ that are linearly independent of each other, and two that are not.\n",
    "\n",
    "**Def:** A linearly independent set of vectors $v_1,...,v_n$ is a basis for a vector space $V$ if $span(v_1,...,v_n) = V$. \n",
    "\n",
    "**Example:** The set $(1\\;0\\;0)^T$, $(0\\;1\\;0)^T$, and $(0\\;0\\;1)^T$ is a basis for $\\mathbb{R}^3$. \n",
    "\n",
    "**Example:** Any set of two vectors is not a basis for $\\mathbb{R}^3$.\n",
    "\n",
    "**Def:** The dimension of a vector space is the number of elements in any basis for the space.\n",
    "\n",
    "**Example:** The dimension of $span(u,v)$ of the subspace described above is $2$. A basis for $span(u,v)$ is in fact $u$ and $v$. \n",
    "\n",
    "**Def:** The dot product of $u$ and $v$ is the pairwise sum of the products of the elements in $u$ and $v$:\n",
    "\n",
    "$$\n",
    "u \\cdot v = u^T v = u_1 v_1 + ... + u_n v_n \\in \\mathbb{R}.\n",
    "$$\n",
    "\n",
    "**Def:** Two vectors $u$ and $v$ are **orthogonal** if $u^Tv = 0$. \n",
    "\n",
    "**Example:** Show some dot products.\n",
    "\n",
    "**Def:** The magnitude of a vector $v$ is the square root of its dot product with itself:\n",
    "\n",
    "$$\n",
    "||v|| = \\sqrt{v^Tv}.\n",
    "$$\n",
    "\n",
    "**Example:** Show a magnitude calculation. "
   ]
  },
  {
   "cell_type": "code",
   "execution_count": 46,
   "metadata": {
    "ExecuteTime": {
     "end_time": "2019-10-22T17:39:55.070302Z",
     "start_time": "2019-10-22T17:39:55.057976Z"
    }
   },
   "outputs": [
    {
     "name": "stdout",
     "output_type": "stream",
     "text": [
      "[[1]\n",
      " [2]\n",
      " [3]]\n",
      "[[4]\n",
      " [5]\n",
      " [6]]\n"
     ]
    }
   ],
   "source": [
    "# Vectors in numpy are just arrays of arrays. To make them into column vectors, you need to do the following:\n",
    "\n",
    "u = np.array([\n",
    "    [1],\n",
    "    [2],\n",
    "    [3]\n",
    "])\n",
    "\n",
    "print(u)\n",
    "print(\"\\n\")\n",
    "\n",
    "# Or you can do \n",
    "\n",
    "v = np.array([[4,5,6]]).transpose()\n",
    "print(v)"
   ]
  },
  {
   "cell_type": "code",
   "execution_count": 48,
   "metadata": {
    "ExecuteTime": {
     "end_time": "2019-10-22T17:40:09.948336Z",
     "start_time": "2019-10-22T17:40:09.936940Z"
    }
   },
   "outputs": [
    {
     "name": "stdout",
     "output_type": "stream",
     "text": [
      "[[5]\n",
      " [7]\n",
      " [9]]\n",
      "\n",
      "\n",
      "[[-20]\n",
      " [-25]\n",
      " [-30]]\n"
     ]
    }
   ],
   "source": [
    "# Numpy supports all the standard vector operations\n",
    "\n",
    "print(u+v)\n",
    "print(\"\\n\")\n",
    "print(-5 * v)"
   ]
  },
  {
   "cell_type": "code",
   "execution_count": 64,
   "metadata": {
    "ExecuteTime": {
     "end_time": "2019-10-22T17:47:59.386437Z",
     "start_time": "2019-10-22T17:47:59.381563Z"
    }
   },
   "outputs": [
    {
     "data": {
      "text/plain": [
       "array([[0.],\n",
       "       [0.],\n",
       "       [0.],\n",
       "       [1.],\n",
       "       [0.],\n",
       "       [0.],\n",
       "       [0.],\n",
       "       [0.],\n",
       "       [0.],\n",
       "       [0.]])"
      ]
     },
     "execution_count": 64,
     "metadata": {},
     "output_type": "execute_result"
    }
   ],
   "source": [
    "# To make the standard basis for n dimensional vectors, you can do the following,\n",
    "# which gives the vector in R^10 with the fourth elemenet = 1 and the rest of the\n",
    "# elements equal to zero\n",
    "\n",
    "np.eye(1,10,3).transpose()"
   ]
  },
  {
   "cell_type": "code",
   "execution_count": 55,
   "metadata": {
    "ExecuteTime": {
     "end_time": "2019-10-22T17:43:09.417829Z",
     "start_time": "2019-10-22T17:43:09.411277Z"
    }
   },
   "outputs": [
    {
     "data": {
      "text/latex": [
       "$$\\left[\\begin{matrix}-10\\\\-10\\\\-10\\end{matrix}\\right]$$"
      ],
      "text/plain": [
       "⎡-10⎤\n",
       "⎢   ⎥\n",
       "⎢-10⎥\n",
       "⎢   ⎥\n",
       "⎣-10⎦"
      ]
     },
     "execution_count": 55,
     "metadata": {},
     "output_type": "execute_result"
    }
   ],
   "source": [
    "# You can also use sympy to get exact values for your arrays. Here, vectors are just n x 1 matrices\n",
    "\n",
    "w = sm.Matrix([[1],[2],[3]])\n",
    "x = sm.Matrix([[3],[4],[5]])\n",
    "5*(w - x)"
   ]
  },
  {
   "cell_type": "code",
   "execution_count": 65,
   "metadata": {
    "ExecuteTime": {
     "end_time": "2019-10-22T17:48:01.174521Z",
     "start_time": "2019-10-22T17:48:01.168030Z"
    }
   },
   "outputs": [
    {
     "data": {
      "text/latex": [
       "$$\\left[\\begin{matrix}0\\\\0\\\\0\\\\1\\\\0\\\\0\\\\0\\\\0\\\\0\\\\0\\end{matrix}\\right]$$"
      ],
      "text/plain": [
       "⎡0⎤\n",
       "⎢ ⎥\n",
       "⎢0⎥\n",
       "⎢ ⎥\n",
       "⎢0⎥\n",
       "⎢ ⎥\n",
       "⎢1⎥\n",
       "⎢ ⎥\n",
       "⎢0⎥\n",
       "⎢ ⎥\n",
       "⎢0⎥\n",
       "⎢ ⎥\n",
       "⎢0⎥\n",
       "⎢ ⎥\n",
       "⎢0⎥\n",
       "⎢ ⎥\n",
       "⎢0⎥\n",
       "⎢ ⎥\n",
       "⎣0⎦"
      ]
     },
     "execution_count": 65,
     "metadata": {},
     "output_type": "execute_result"
    }
   ],
   "source": [
    "# Similarly, you can make basis vectors. You have to first make a matrix though and take the mth column.\n",
    "\n",
    "sm.eye(10)[:,3]"
   ]
  },
  {
   "cell_type": "markdown",
   "metadata": {},
   "source": [
    "## Matrices"
   ]
  },
  {
   "cell_type": "markdown",
   "metadata": {},
   "source": [
    "Definitions\n",
    "---\n",
    "\n",
    "**Def:** A **matrix** is a rectangular array of real or complex elements. If a real valued matrix $M$ has $n$ rows and $m$ columns, we write that $M \\in \\mathbb{R}^{n \\times m}$.\n",
    "\n",
    "**Example:** The following is a $3 \\times 5$ matrix:\n",
    "\n",
    "$$\n",
    "\\begin{pmatrix}\n",
    "0&1&2&0&9\\\\\n",
    "1&-1&2&-3&4 \\\\\n",
    "0 & 0 & 1 & 1 & 1\n",
    "\\end{pmatrix}.\n",
    "$$\n",
    "\n",
    "**Example:** A gray scale bitmap can be thought of as a matrix with the $i,j$ entry corresponding to the gray level of the pixel at position $i,j$. Typically, values range from 0 (black) to 255 (white). Or they can be $0$ for black and $1$ for white, with $0.5$ for gray$. \n",
    "\n",
    "**Example:** Suppose we have 100 Senators in congress and 200 issues they have voted on in the present term. If Senator $i$ voted yes on issue $j$, put $M_{i,j} = 1$. If she voted no, put $M_{i,j} = -1$. If she didn't vote, put $M_{i,j} = 0$. \n",
    "\n",
    "**Example**: A matrix can represent a social network. For example, suppose that user $i$ is \"friends with\" user $j$. Then we would write $A_{i,j} = 1$ Otherwise, we would write $A_{i,j} = 0$. \n",
    "\n",
    "**Def:** A matrix can represent a **linear transformation** on other vectors. In this case we use **matrix multiplication** to take vectors to vectors:\n",
    "\n",
    "$$\n",
    "A x = y\n",
    "$$\n",
    "\n",
    "means \n",
    "\n",
    "$$\n",
    "\\begin{pmatrix}\n",
    "a_{1,1} & ... & a_{1,n} \\\\\n",
    "\\vdots & \\; & \\vdots \\\\\n",
    "a_{n,1} & ... & a_{n,n}\n",
    "\\end{pmatrix} \\begin{pmatrix}\n",
    "x_1 \\\\\n",
    "\\vdots \\\\\n",
    "x_n\n",
    "\\end{pmatrix} = \n",
    "\\begin{pmatrix}\n",
    "a_{1,1} x_1 & ... & a_{1,n}x_n \\\\\n",
    "\\vdots & & \\vdots \\\\\n",
    "a_{n,1} x_1 & ... & a_{n,n} x_n\n",
    "\\end{pmatrix} = \n",
    "\\begin{pmatrix}\n",
    "y_1 \\\\\n",
    "\\vdots \\\\\n",
    "y_n\n",
    "\\end{pmatrix}\n",
    "$$\n",
    "\n",
    "**Example:** For example, given $\\theta \\in \\mathbb{R}$ define the rotation matrix\n",
    "\n",
    "$$\n",
    "R(\\theta) = \n",
    "\\begin{pmatrix}\n",
    "\\cos \\theta \\; \\sin \\theta \\\\\n",
    "-\\sin \\theta \\; \\cos \\theta\n",
    "\\end{pmatrix}.\n",
    "$$\n",
    "\n",
    "For example,\n",
    "\n",
    "$$\n",
    "R(\\frac{\\pi}{4}) = \n",
    "\\begin{pmatrix}\n",
    "\\frac{\\sqrt{2}}{2} & \\frac{\\sqrt{2}}{2} \\\\\n",
    "-\\frac{\\sqrt{2}}{2} & \\frac{\\sqrt{2}}{2}\n",
    "\\end{pmatrix}.\n",
    "$$\n",
    "\n",
    "These matrices when applied to vectors, rotate the vectors around the origin by $\\theta$ radians, preserving their magnitudes. \n"
   ]
  },
  {
   "cell_type": "code",
   "execution_count": 94,
   "metadata": {
    "ExecuteTime": {
     "end_time": "2019-10-22T18:15:21.733827Z",
     "start_time": "2019-10-22T18:15:21.562965Z"
    }
   },
   "outputs": [
    {
     "data": {
      "image/png": "[encoded data removed]",
      "text/plain": [
       "<Figure size 432x288 with 1 Axes>"
      ]
     },
     "metadata": {},
     "output_type": "display_data"
    }
   ],
   "source": [
    "def R(theta):\n",
    "    return np.array([\n",
    "        [np.cos(theta), np.sin(theta)],\n",
    "        [-np.sin(theta), np.cos(theta)]        \n",
    "    ])\n",
    "\n",
    "x = np.array([[1],[0]])\n",
    "y = np.matmul(R(np.pi/4),x)\n",
    "\n",
    "plt.arrow(0,0,x[0,0],x[1,0],head_width=0.1)\n",
    "plt.arrow(0,0,y[0,0],y[1,0],head_width=0.1)\n",
    "plt.xlim(-1.5,1.5)\n",
    "plt.ylim(-1.5,1.5)\n",
    "plt.gca().set_aspect(1)"
   ]
  },
  {
   "cell_type": "markdown",
   "metadata": {},
   "source": [
    "Transformations can also be\n",
    "- Reflections about a line\n",
    "- Distortions, squashing or extending vectors\n",
    "- Projections down to a line\n",
    "- Scalings\n",
    "- Combinations of all of the above"
   ]
  },
  {
   "cell_type": "markdown",
   "metadata": {},
   "source": [
    "Matrix Operations\n",
    "---\n",
    "\n",
    "**Addition:** If $A$ and $B$ are matrices, then they can be added together if they have the same dimensions. In this case $(A+B)_{i,j} = A_{i,j} + B_{i,j}$. \n",
    "\n",
    "**Multiplication:** If $A \\in \\mathbb{R}^{n \\times m}$ and $B \\in \\mathbb{R}^{m \\times p}$ then $AB \\in \\mathbb{R}^{n \\times p}$ is defined by \n",
    "\n",
    "$$\n",
    "AB = \\begin{pmatrix}\n",
    "a_{1,1} & ... & a_{1,n} \\\\\n",
    "\\vdots & \\; & \\vdots \\\\\n",
    "a_{m,1} & ... & a_{m,n}\n",
    "\\end{pmatrix} \\begin{pmatrix}\n",
    "b_{1,1} & ... & b_{1,p} \\\\\n",
    "\\vdots & \\; & \\vdots \\\\\n",
    "b_{n,1} & ... & b_{n,p}\n",
    "\\end{pmatrix} = \n",
    "\\begin{pmatrix}\n",
    "c_{1,1} & ... & c_{1,p} \\\\\n",
    "\\vdots & \\; & \\vdots \\\\\n",
    "c_{m,1} & ... & c_{m,p}\n",
    "\\end{pmatrix} \n",
    "$$\n",
    "\n",
    "where\n",
    "\n",
    "$$\n",
    "c_{i,j} = a_{i,1} b_{1,j} + ... + a_{1,n} b_{n,j}.\n",
    "$$\n",
    "\n",
    "Said differently, the $i,j$ entry of $AB$ is the dot product of the $i$the row of $A$ with the $j$th column of $B$.\n",
    "\n",
    "**Example:** Show a matrix multiplication.\n",
    "\n",
    "**Example:** Two transformations can be done in succession to get a new transformation, simply by multiplying the two transformations together. For example, $R(\\theta_1) R(\\theta_2) = R(\\theta_1 + \\theta_2)$. \n",
    "\n",
    "**Example:** If $A \\in \\mathbb{R}^{n \\times n}$ then $A^m$ is $A$ multiplied by itself $m$ times.\n",
    "\n",
    "**Not Commutative:** It is not always the case that $AB = BA$ for square matrices, as simple examples show.\n",
    "\n",
    "**Indentity:** The **identity matrix** for $\\mathbb{R}^{n \\times n}$ is \n",
    "\n",
    "$$\n",
    "I = \\begin{pmatrix}\n",
    "1 & 0 & ... & 0 \\\\\n",
    "0 & 1 & ... & 0  \\\\\n",
    "\\vdots & \\vdots & \\; & \\vdots \\\\\n",
    "0 & 0 & ... & 1\n",
    "\\end{pmatrix}\n",
    "$$\n",
    "\n",
    "and has the property that \n",
    "\n",
    "$$\n",
    "A I = I A = A\n",
    "$$\n",
    "\n",
    "for any $A \\in \\mathbb{R}^{n \\times n}$.\n",
    "\n",
    "**Inverses:** If $A \\in \\mathbb{R}^{n \\times n}$ then if $AB = I$, $B$ is said to be the inverse of $A$ and is denoted $A^{-1}$. \n",
    "\n",
    "**Example**: The inverse of the matrix\n",
    "\n",
    "$$\n",
    "\\begin{pmatrix}\n",
    "a & b \\\\\n",
    "c & d\n",
    "\\end{pmatrix} \n",
    "$$\n",
    "\n",
    "is\n",
    "\n",
    "$$\n",
    "\\frac{1}{ad - bc} \\begin{pmatrix}\n",
    "d & -b \\\\\n",
    "-c & a\n",
    "\\end{pmatrix} \n",
    "$$\n",
    "\n",
    "as can be shown by multiplying the two matrices together."
   ]
  },
  {
   "cell_type": "code",
   "execution_count": 96,
   "metadata": {
    "ExecuteTime": {
     "end_time": "2019-10-22T18:33:08.544403Z",
     "start_time": "2019-10-22T18:33:08.539500Z"
    }
   },
   "outputs": [
    {
     "data": {
      "text/plain": [
       "(array([[-0.9899925 ,  0.14112001],\n",
       "        [-0.14112001, -0.9899925 ]]), array([[-0.9899925 ,  0.14112001],\n",
       "        [-0.14112001, -0.9899925 ]]))"
      ]
     },
     "execution_count": 96,
     "metadata": {},
     "output_type": "execute_result"
    }
   ],
   "source": [
    "np.matmul(R(1),R(2)), R(1+2)"
   ]
  },
  {
   "cell_type": "markdown",
   "metadata": {},
   "source": [
    "## Eigenvalues"
   ]
  },
  {
   "cell_type": "markdown",
   "metadata": {},
   "source": [
    "**Def:** If $A \\in \\mathbb{R}^{n \\times n}$ then $\\lambda \\in \\mathbb{C}$ is an **eigenvalue** if there exists a **non-zero** vector $v \\in \\mathbb{C}^n$ such that\n",
    "\n",
    "$$\n",
    "A v = \\lambda v.\n",
    "$$\n",
    "\n",
    "In this case, $v$ is called an **eigenvalue**. \n",
    "\n",
    "Another way to write the above equation is to put everything on the left hand side to get:\n",
    "\n",
    "$$\n",
    "(\\lambda I - A)v = 0\n",
    "$$\n",
    "\n",
    "Since $v$ is non-zero, it must be the case that $\\lambda I - A$ is singular. Thus, to compute eigenvalues, we find values of $\\lambda$ that make $\\lambda I - A$ singular. That is, we solve the equation\n",
    "\n",
    "$$\n",
    "\\mathrm{det}(\\lambda I - A) = 0.\n",
    "$$\n",
    "\n",
    "**Example:** Say\n",
    "$$\n",
    "A =\\begin{pmatrix}0&1\\\\1&-1\\end{pmatrix}.\n",
    "$$\n",
    "then\n",
    "\n",
    "\\begin{align}\n",
    "\\mathrm{det}(\\lambda I - A) \n",
    "& = \\left|\n",
    "\\left(\\begin{array}{cc}\n",
    "\\lambda & 0 \\\\\n",
    "0 & \\lambda\n",
    "\\end{array}\\right) -\n",
    "\\left(\\begin{array}{cc}\n",
    "0 & 1 \\\\\n",
    "1 & -1\n",
    "\\end{array}\\right)\n",
    "\\right| \\\\\n",
    "& =\\left|\n",
    "\\begin{array}{cc}\n",
    "\\lambda & -1 \\\\\n",
    "-1 & \\lambda+1\n",
    "\\end{array}\n",
    "\\right| \\\\\n",
    "& =\n",
    "\\lambda(\\lambda+1)-1 \\\\\n",
    "& = \n",
    "\\lambda^2 + \\lambda-1\n",
    "\\end{align}\n",
    "\n",
    "Hence, \n",
    "\n",
    "$$\n",
    "\\lambda = \\frac{-1\\pm\\sqrt{5}}{2}.\n",
    "$$\n",
    "\n",
    "or $-1.62$ and $0.62$. \n",
    "\n",
    "The eigenvectors of a system can be found with\n",
    "\n",
    "$$\n",
    "A x = \\lambda x\n",
    "$$\n",
    "\n",
    "In this case, we have\n",
    "\n",
    "$$\n",
    "\\begin{pmatrix}0&1\\\\1&-1\\end{pmatrix}\n",
    "\\begin{pmatrix}x_1\\\\x_2\\end{pmatrix} = \n",
    "\\lambda\n",
    "\\begin{pmatrix}x_1\\\\x_2\\end{pmatrix}\n",
    "$$\n",
    "\n",
    "Which amounts to $x_1 = \\lambda x_1$ and $x_1 - x_2 = \\lambda x_2$. Choosing $x_1 = 1$ we use the first equation to get $x_2 = \\lambda$. \n",
    "\n",
    "So the first eigenvector can be chosen to be\n",
    "\n",
    "$$\n",
    "{\\bf x}_1 = \\begin{pmatrix}1\\\\\\frac{-1-\\sqrt{5}}{2}\\end{pmatrix} \\approx \n",
    "\\begin{pmatrix}1\\\\-1.62\\end{pmatrix}\n",
    "$$\n",
    "\n",
    "And similarly, the second can be chosen to be\n",
    "$$\n",
    "{\\bf x}_2 = \\begin{pmatrix}1\\\\\\frac{-1+\\sqrt{5}}{2}\\end{pmatrix} \\approx \n",
    "\\begin{pmatrix}1\\\\0.62\\end{pmatrix}.\n",
    "$$\n",
    "\n",
    "Note that these are not unique. You can choose any multiple of an eigenvector and it is still an eigenvector."
   ]
  },
  {
   "cell_type": "markdown",
   "metadata": {},
   "source": [
    "Diagonalization\n",
    "---\n",
    "\n",
    "Consider the matrix $A = \\mathbb{R}^{n \\times n}$. Say $A$ has distinct real eigenvalues $\\lambda_1$ and $\\lambda_2$ with eigenvectors $v_1$ and $v_2$. Then\n",
    "\n",
    "$$\n",
    "A v_1 = \\lambda_1 v_1 \\\\\n",
    "A v_2 = \\lambda_2 v_2 \n",
    "$$\n",
    "\n",
    "which can be written\n",
    "\n",
    "$$\n",
    "\\left( A v_1 \\; A v_2 \\right) = ( \\lambda_1 v_1 \\; \\lambda_2 v_2 )\n",
    "$$\n",
    "\n",
    "or even better\n",
    "\n",
    "$$\n",
    "A ( v_1 \\; v_2 ) = ( v_1 \\; v_2 ) \n",
    "\\begin{pmatrix}\\lambda_1 & 0\\\\ 0 & \\lambda_2\\end{pmatrix}\n",
    "$$\n",
    "\n",
    "If we define \n",
    "\n",
    "$$\n",
    "P = ( v_1 \\; v_2 )\n",
    "$$\n",
    "\n",
    "and \n",
    "\n",
    "$$\n",
    "D = \\begin{pmatrix}\\lambda_1 & 0\\\\ 0 & \\lambda_2\\end{pmatrix}\n",
    "$$\n",
    "\n",
    "then we get\n",
    "\n",
    "$$\n",
    "AP = PD\n",
    "$$\n",
    "\n",
    "or\n",
    "\n",
    "$$\n",
    "A = PDP^{-1}\n",
    "$$\n",
    "\n",
    "When there exists a $P$ that satisfies this last equation (whether $D$ is diagonal or not), then $A$ and $D$ are called *similar*. \n",
    "\n",
    "Jordan Form\n",
    "---\n",
    "More generally (i.e. when the eigenvalues are not distinct), any matrix is similar to one in *Jordan Form*, which is a canonical representation of a matrix. Having a matrix in a canonical form makes it easy to see what it does as a dynamical system. More on this later.\n",
    "\n",
    "The Eigenvalues of Similar Matrices are Equal\n",
    "---\n",
    "\n",
    "If $A = PQP^{-1}$ and $\\lambda$ is an eigenvalue of $A$, then for an eigenvector $x$ then\n",
    "\n",
    "$$\n",
    "Q P x = P A P^{-1} P x = P A x = P \\lambda x = \\lambda P x\n",
    "$$\n",
    "\n",
    "thus, $\\lambda$ is also an eigenvalue of $Q$ with eigenvector $P x$. \n",
    "\n",
    "P is a Change of Coordinates\n",
    "---\n",
    "\n",
    "If $A = PQP^{-1}$ define $z = P^{-1}x$ then $x = P z$ and \n",
    "\n",
    "$$\n",
    "\\dot z = P^{-1}\\dot x = P^{-1} A x = P^{-1} A P z = Q z\n",
    "$$\n",
    "\n",
    "Thus, the dynamics of $z$ are \"similar\" to the dynamics of $x$. And because they have the same eigenvalues, you can use either $A$ or $Q$ to understand the stability of either system.\n"
   ]
  },
  {
   "cell_type": "markdown",
   "metadata": {},
   "source": [
    "Computing Eigenvalues Symbolically\n",
    "---\n",
    "\n",
    "Python can do symbolic math using the [SymPy](https://docs.sympy.org/latest/tutorial/index.html) library. For example, to get the eigenvalues of $A$ we do:"
   ]
  },
  {
   "cell_type": "code",
   "execution_count": 16,
   "metadata": {
    "ExecuteTime": {
     "end_time": "2019-10-21T18:38:52.717001Z",
     "start_time": "2019-10-21T18:38:52.708041Z"
    }
   },
   "outputs": [
    {
     "data": {
      "text/latex": [
       "$$\\left ( - \\frac{\\sqrt{5}}{2} - \\frac{1}{2}, \\quad - \\frac{1}{2} + \\frac{\\sqrt{5}}{2}\\right )$$"
      ],
      "text/plain": [
       "⎛  √5   1    1   √5⎞\n",
       "⎜- ── - ─, - ─ + ──⎟\n",
       "⎝  2    2    2   2 ⎠"
      ]
     },
     "execution_count": 16,
     "metadata": {},
     "output_type": "execute_result"
    }
   ],
   "source": [
    "A = sm.Matrix([[0, 1], [1,-1]])\n",
    "lam1,lam2=A.eigenvals()\n",
    "lam1,lam2"
   ]
  },
  {
   "cell_type": "markdown",
   "metadata": {},
   "source": [
    "Note that `lam1` and `lam2` are *symbolic expressions*. To get numerical values from them, use the `N` method."
   ]
  },
  {
   "cell_type": "code",
   "execution_count": 17,
   "metadata": {
    "ExecuteTime": {
     "end_time": "2019-10-21T18:38:55.162782Z",
     "start_time": "2019-10-21T18:38:55.157882Z"
    }
   },
   "outputs": [
    {
     "data": {
      "text/latex": [
       "$$\\left ( -1.61803398874989, \\quad 0.618033988749895\\right )$$"
      ],
      "text/plain": [
       "(-1.61803398874989, 0.618033988749895)"
      ]
     },
     "execution_count": 17,
     "metadata": {},
     "output_type": "execute_result"
    }
   ],
   "source": [
    "N(lam1),N(lam2)"
   ]
  },
  {
   "cell_type": "markdown",
   "metadata": {},
   "source": [
    "You can also get the eigenvectors. The method provided returns a list of tuples of the form\n",
    "\n",
    "    (eigenvalue:algebraic multiplicity, [eigenvectors])."
   ]
  },
  {
   "cell_type": "code",
   "execution_count": 18,
   "metadata": {
    "ExecuteTime": {
     "end_time": "2019-10-21T18:38:58.658152Z",
     "start_time": "2019-10-21T18:38:58.499898Z"
    }
   },
   "outputs": [
    {
     "data": {
      "text/latex": [
       "$$\\left [ \\left ( - \\frac{1}{2} + \\frac{\\sqrt{5}}{2}, \\quad 1, \\quad \\left [ \\left[\\begin{matrix}- \\frac{1}{- \\frac{\\sqrt{5}}{2} + \\frac{1}{2}}\\\\1\\end{matrix}\\right]\\right ]\\right ), \\quad \\left ( - \\frac{\\sqrt{5}}{2} - \\frac{1}{2}, \\quad 1, \\quad \\left [ \\left[\\begin{matrix}- \\frac{1}{\\frac{1}{2} + \\frac{\\sqrt{5}}{2}}\\\\1\\end{matrix}\\right]\\right ]\\right )\\right ]$$"
      ],
      "text/plain": [
       "⎡⎛  1   √5     ⎡⎡  -1    ⎤⎤⎞  ⎛  √5   1     ⎡⎡ -1   ⎤⎤⎞⎤\n",
       "⎢⎜- ─ + ──, 1, ⎢⎢────────⎥⎥⎟, ⎜- ── - ─, 1, ⎢⎢──────⎥⎥⎟⎥\n",
       "⎢⎜  2   2      ⎢⎢  √5   1⎥⎥⎟  ⎜  2    2     ⎢⎢1   √5⎥⎥⎟⎥\n",
       "⎢⎜             ⎢⎢- ── + ─⎥⎥⎟  ⎜             ⎢⎢─ + ──⎥⎥⎟⎥\n",
       "⎢⎜             ⎢⎢  2    2⎥⎥⎟  ⎜             ⎢⎢2   2 ⎥⎥⎟⎥\n",
       "⎢⎜             ⎢⎢        ⎥⎥⎟  ⎜             ⎢⎢      ⎥⎥⎟⎥\n",
       "⎣⎝             ⎣⎣   1    ⎦⎦⎠  ⎝             ⎣⎣  1   ⎦⎦⎠⎦"
      ]
     },
     "execution_count": 18,
     "metadata": {},
     "output_type": "execute_result"
    }
   ],
   "source": [
    "A.eigenvects()"
   ]
  },
  {
   "cell_type": "markdown",
   "metadata": {},
   "source": [
    "A somewhat easier way to see the eigenvalues is to us *diagonalization*, which puts the eigenvectors as the columns of a matrix:"
   ]
  },
  {
   "cell_type": "code",
   "execution_count": 19,
   "metadata": {
    "ExecuteTime": {
     "end_time": "2019-10-21T18:39:01.186772Z",
     "start_time": "2019-10-21T18:39:01.123828Z"
    }
   },
   "outputs": [
    {
     "data": {
      "text/latex": [
       "$$\\left[\\begin{matrix}- \\frac{2}{- \\sqrt{5} + 1} & - \\frac{2}{1 + \\sqrt{5}}\\\\1 & 1\\end{matrix}\\right]$$"
      ],
      "text/plain": [
       "⎡  -2      -2   ⎤\n",
       "⎢───────  ──────⎥\n",
       "⎢-√5 + 1  1 + √5⎥\n",
       "⎢               ⎥\n",
       "⎣   1       1   ⎦"
      ]
     },
     "execution_count": 19,
     "metadata": {},
     "output_type": "execute_result"
    }
   ],
   "source": [
    "P, D = A.diagonalize()\n",
    "P"
   ]
  },
  {
   "cell_type": "markdown",
   "metadata": {},
   "source": [
    "We can pick off the eigenvectors from `P` using the `row` and `col` operators on matricies."
   ]
  },
  {
   "cell_type": "code",
   "execution_count": 20,
   "metadata": {
    "ExecuteTime": {
     "end_time": "2019-10-21T18:39:02.825993Z",
     "start_time": "2019-10-21T18:39:02.819841Z"
    }
   },
   "outputs": [
    {
     "data": {
      "text/latex": [
       "$$\\left[\\begin{matrix}- \\frac{2}{- \\sqrt{5} + 1}\\\\1\\end{matrix}\\right]$$"
      ],
      "text/plain": [
       "⎡  -2   ⎤\n",
       "⎢───────⎥\n",
       "⎢-√5 + 1⎥\n",
       "⎢       ⎥\n",
       "⎣   1   ⎦"
      ]
     },
     "execution_count": 20,
     "metadata": {},
     "output_type": "execute_result"
    }
   ],
   "source": [
    "x1=P.col(0)\n",
    "x2=P.col(1)\n",
    "x1"
   ]
  },
  {
   "cell_type": "markdown",
   "metadata": {},
   "source": [
    "Notice that SymPy is also includes imaginary numbers. So you can get the eigenvalues of the more interesting spiral matrix from the pendulum example too"
   ]
  },
  {
   "cell_type": "code",
   "execution_count": 21,
   "metadata": {
    "ExecuteTime": {
     "end_time": "2019-10-21T18:39:07.479535Z",
     "start_time": "2019-10-21T18:39:07.467899Z"
    }
   },
   "outputs": [
    {
     "data": {
      "text/latex": [
       "$$\\left ( - \\frac{1}{2} - \\frac{\\sqrt{3} i}{2}, \\quad - \\frac{1}{2} + \\frac{\\sqrt{3} i}{2}\\right )$$"
      ],
      "text/plain": [
       "⎛  1   √3⋅ⅈ    1   √3⋅ⅈ⎞\n",
       "⎜- ─ - ────, - ─ + ────⎟\n",
       "⎝  2    2      2    2  ⎠"
      ]
     },
     "execution_count": 21,
     "metadata": {},
     "output_type": "execute_result"
    }
   ],
   "source": [
    "A = Matrix([[0, 1], [-1,-1]])\n",
    "lam1,lam2=A.eigenvals()\n",
    "lam1,lam2"
   ]
  },
  {
   "cell_type": "code",
   "execution_count": 22,
   "metadata": {
    "ExecuteTime": {
     "end_time": "2019-10-21T18:39:08.353870Z",
     "start_time": "2019-10-21T18:39:08.340367Z"
    },
    "scrolled": true
   },
   "outputs": [
    {
     "name": "stdout",
     "output_type": "stream",
     "text": [
      "-1/2\n",
      "-sqrt(3)/2\n",
      "1\n",
      "-1/2 + sqrt(3)*I/2\n"
     ]
    }
   ],
   "source": [
    "print(re(lam1))\n",
    "print(im(lam1))\n",
    "print(abs(lam1))\n",
    "print(conjugate(lam1))"
   ]
  },
  {
   "cell_type": "code",
   "execution_count": null,
   "metadata": {
    "collapsed": true
   },
   "outputs": [],
   "source": []
  },
  {
   "cell_type": "markdown",
   "metadata": {
    "heading_collapsed": true
   },
   "source": [
    "## Jordan Canonical Form"
   ]
  },
  {
   "cell_type": "markdown",
   "metadata": {
    "hidden": true
   },
   "source": [
    "Not all matrices can be diagonalized. This is because the matrix of eignvectors, which we use for $P$ and $P^{-1}$ may not be invertible. However, all matrices can be put into *Jordan* form. \n",
    "\n",
    "A *Jordan Block* of size $m$ and value $\\lambda$ is a matrix\n",
    "$J_m(\\lambda)$ having the value $\\lambda$ repeated along the main\n",
    "diagonal, ones along the superdiagonal and zeros everywhere else. For\n",
    "example:\n",
    "\n",
    "$$\n",
    "J_2(4) = \\begin{pmatrix} \n",
    "4 & 1 \\\\\n",
    "0 & 4\n",
    "\\end{pmatrix} \\;\\;\\;\\;\\;\\;\\; \\mathrm{and}\\;\\;\\;\\;\\;\\;\\;\n",
    "J_4(-\\frac{1}{2}) = \\begin{pmatrix}\n",
    "-\\frac{1}{2} & 1 & 0 & 0 \\\\\n",
    "0 & -\\frac{1}{2} & 1 & 0 \\\\\n",
    "0 & 0 & -\\frac{1}{2} & 1 \\\\\n",
    "0 & 0 & 0 & -\\frac{1}{2}\n",
    "\\end{pmatrix} .\n",
    "$$\n",
    "\n",
    "A Matrix is in *Jordan Form* is a block diagonal matrix consisting of several Jordan blocks. For example, \n",
    "we can form a Jordan Form from two copies of $J_2(4)$ and one copy of $J_4(-\\frac{1}{2})$ as follows.\n",
    "$$\n",
    "J = \\begin{pmatrix}\n",
    "J_2(4) & 0 & 0 \\\\\n",
    "0 & J_2(4) & 0 \\\\\n",
    "0&  0 & J_4(-\\frac{1}{2})\n",
    "\\end{pmatrix} = \\begin{pmatrix}\n",
    "4 & 1 & 0 & 0 & 0 & 0 & 0 & 0 \\\\\n",
    "0 & 4 & 0 & 0 & 0 & 0 & 0 & 0 \\\\\n",
    "0 & 0 & 4 & 1 & 0 & 0 & 0 & 0 \\\\\n",
    "0 & 0 & 0 & 4 & 0 & 0 & 0 & 0 \\\\\n",
    "0 & 0 & 0 & 0 & -\\frac{1}{2} & 1 & 0 & 0 \\\\\n",
    "0 & 0 & 0 & 0 & 0 & -\\frac{1}{2} & 1 & 0 \\\\\n",
    "0 & 0 & 0 & 0 & 0 & 0 & -\\frac{1}{2} & 1 \\\\\n",
    "0 & 0 & 0 & 0 & 0 & 0 & 0 & -\\frac{1}{2} \\\\\n",
    "\\end{pmatrix} .\n",
    "$$\n",
    "\n",
    "Notice that the eigenvalues and eigenvectors of a matrix in Jordan\n",
    "Form can be read off without your having to do any work.\n",
    "- The eigenvalues are along the main diagonal (this is true of any upper-triangular matrix).\n",
    "- Eigenvectors can be found on the columns at the beginning of each block.\n",
    "\n",
    "For example, in the above form $J$, we have the eigenvalues $\\lambda =\n",
    "1$ with multiplicity $4$ and $\\lambda = \\frac{1}{2}$ with multiplicity\n",
    "$4$. Furthermore, there are two eigenvectors associated with $\\lambda =\n",
    "1$, namely\n",
    "\n",
    "$$\n",
    "v_1 = \\begin{pmatrix}\n",
    "1 \\\\ 0 \\\\ 0 \\\\ 0 \\\\ 0 \\\\ 0 \\\\ 0 \\\\ 0\n",
    "\\end{pmatrix}, \\;\\;\n",
    "v_2 = \\begin{pmatrix}\n",
    "0 \\\\ 0 \\\\ 1 \\\\ 0 \\\\ 0 \\\\ 0 \\\\ 0 \\\\ 0\n",
    "\\end{pmatrix}\n",
    "$$\n",
    "\n",
    "and one eigenvector associated with the eigenvalue $\\lambda = - \\frac{1}{2}$, namely\n",
    "\n",
    "$$\n",
    "v_3 = \\begin{pmatrix}\n",
    "0 \\\\ 0 \\\\ 0 \\\\ 0 \\\\ 1 \\\\ 0 \\\\ 0 \\\\ 0\n",
    "\\end{pmatrix} .\n",
    "$$\n",
    "\n",
    "These choices are not unique: any two basis vectors for $\\mathrm{span} ( v_1, v_2 )$ can\n",
    "be chosen as the eigenvectors for $\\lambda = 1$ and any non-zero\n",
    "scalar multiple of $v_3$ can be chosen as the eigenvector for $\\lambda\n",
    "= - \\frac{1}{2}$.\n",
    "\n",
    "**Theorem**: Any matrix can be put into Jordan Form.\n",
    "\n",
    "We will not prove this statement in this course. However, [here](https://github.com/klavins/ECE447/blob/master/lectures/jordan-form.pdf) is a proof you can read if you are interested. \n",
    "\n",
    "You can use `sympy` to put matrices into Jordan form. For example:"
   ]
  },
  {
   "cell_type": "markdown",
   "metadata": {
    "heading_collapsed": true
   },
   "source": [
    "## Cayley-Hamilton Theorem"
   ]
  },
  {
   "cell_type": "markdown",
   "metadata": {
    "hidden": true
   },
   "source": [
    "**Caley-Hamilton Theorem**: A matrix solves its own characteristic polynomial."
   ]
  },
  {
   "cell_type": "code",
   "execution_count": 12,
   "metadata": {
    "ExecuteTime": {
     "end_time": "2019-10-21T18:23:25.932560Z",
     "start_time": "2019-10-21T18:23:25.925426Z"
    },
    "hidden": true
   },
   "outputs": [
    {
     "data": {
      "text/latex": [
       "$$s^{2} - 5 s + 6$$"
      ],
      "text/plain": [
       " 2          \n",
       "s  - 5⋅s + 6"
      ]
     },
     "execution_count": 12,
     "metadata": {},
     "output_type": "execute_result"
    }
   ],
   "source": [
    "s = sm.symbols(\"s\")\n",
    "A = sm.Matrix([\n",
    "    [1,2],\n",
    "    [-1,4]\n",
    "])\n",
    "cp = (s*sm.eye(2)-A).det()\n",
    "cp"
   ]
  },
  {
   "cell_type": "code",
   "execution_count": 13,
   "metadata": {
    "ExecuteTime": {
     "end_time": "2019-10-21T18:23:45.763610Z",
     "start_time": "2019-10-21T18:23:45.758076Z"
    },
    "hidden": true
   },
   "outputs": [
    {
     "data": {
      "text/latex": [
       "$$\\left[\\begin{matrix}0 & 0\\\\0 & 0\\end{matrix}\\right]$$"
      ],
      "text/plain": [
       "⎡0  0⎤\n",
       "⎢    ⎥\n",
       "⎣0  0⎦"
      ]
     },
     "execution_count": 13,
     "metadata": {},
     "output_type": "execute_result"
    }
   ],
   "source": [
    "A**2 - 5*A + 6*sm.eye(2)"
   ]
  },
  {
   "cell_type": "markdown",
   "metadata": {
    "ExecuteTime": {
     "end_time": "2019-10-21T18:24:32.079317Z",
     "start_time": "2019-10-21T18:24:32.075667Z"
    },
    "hidden": true
   },
   "source": [
    "**Why this works**"
   ]
  },
  {
   "cell_type": "markdown",
   "metadata": {
    "hidden": true
   },
   "source": [
    "**Example: Finding powers of matrices**"
   ]
  },
  {
   "cell_type": "markdown",
   "metadata": {
    "heading_collapsed": true
   },
   "source": [
    "## Matrix Exponentials"
   ]
  },
  {
   "cell_type": "markdown",
   "metadata": {
    "hidden": true
   },
   "source": [
    "When $A \\in \\mathbb{R}^{n\\times n}$, then the we define $e^{A}$ by\n",
    "\n",
    "$$\n",
    "e^{A} \\triangleq I + A + \\frac{A^2}{2!} + \\frac{A^3}{3!} + \\dots\n",
    "$$"
   ]
  },
  {
   "cell_type": "markdown",
   "metadata": {
    "ExecuteTime": {
     "end_time": "2019-10-21T18:08:56.056979Z",
     "start_time": "2019-10-21T18:08:56.049713Z"
    },
    "hidden": true
   },
   "source": [
    "If $A$ is diagonalizable, then $A = P D P^{-1}$ for some $P$ and $D$. In this case,\n",
    "\n",
    "\\begin{align}\n",
    "e^{A} & = e^{PDP^{-1}} \\\\\n",
    "       & = I + PDP^{-1} + \\frac{(PDP^{-1})^2}{2!} + \\dots \\\\\n",
    "       & = I + PDP^{-1} + \\frac{PDP^{-1}PDP^{-1}}{2!} + \\dots \\\\\n",
    "       & = I + PDP^{-1} + \\frac{PD^2P^{-1}}{2!} + \\dots \\\\\n",
    "       & = P \\left(I + D + \\frac{D^2}{2!} + \\dots \\right)P^{-1} \\\\\n",
    "       & = P e^{D} P^{-1}.\n",
    "\\end{align}\n"
   ]
  },
  {
   "cell_type": "markdown",
   "metadata": {
    "hidden": true
   },
   "source": [
    "Example: Matrix Exponential of a Jordan Block\n",
    "---\n",
    "\n",
    "The matrix exponential of a diagonal matrix is straightfoward to compute. However, with a Jordan block, the extra ones on the upper diagonal introduce new terms. Here is an example of what happens with a simple Jordan Block\n",
    "\n",
    "$$\n",
    "J = \\begin{pmatrix}\n",
    "-1 & 1 \\\\\n",
    " 0 & -1\n",
    "\\end{pmatrix}\n",
    "$$\n",
    "\n",
    "This matrix has a repeated eigenvalue (-1) and is not diagonalizable due to a one dimensional eigenspace.\n",
    "\n",
    "Using the definition of the matrix exponential, we compute:\n",
    "\n",
    "$$\n",
    "J^2 = \\begin{pmatrix}\n",
    "1 & -2 \\\\\n",
    " 0 & 1\n",
    "\\end{pmatrix}\n",
    "$$\n",
    "\n",
    "and\n",
    "\n",
    "$$\n",
    "J^2 = \\begin{pmatrix}\n",
    "-1 & 3 \\\\\n",
    " 0 & -1\n",
    "\\end{pmatrix} .\n",
    "$$\n",
    "\n",
    "You can see a pattern emerging. We have\n",
    "\n",
    "$$\n",
    "J^n = \\begin{pmatrix}\n",
    "(-1)^{n-1} & n(-1)^n \\\\\n",
    " 0 & (-1)^{n-1}\n",
    "\\end{pmatrix} .\n",
    "$$\n",
    "\n",
    "So the $(1,1)$ and $(2,2)$ entries of $e^{J}$ are \n",
    "\n",
    "$$\n",
    "1 + -1 + \\frac{1}{2!} - \\frac{1}{3!} + \\frac{1}{4!} + ... = e^{-1} = \\frac{1}{e}.\n",
    "$$\n",
    "\n",
    "And the $1,2$ entry is\n",
    "\n",
    "\\begin{align}\n",
    " & = 0 + 1 - 2\\frac{1}{2!} + 3\\frac{1}{3!} - 4\\frac{1}{4!} + ... \\\\ \n",
    " & = 1 - 1 + \\frac{1}{2!} - \\frac{1}{3!} + ... \\\\\n",
    " & = e^{-1} = \\frac{1}{e}.\n",
    "\\end{align}\n",
    "\n",
    "Thus,\n",
    "\n",
    "$$\n",
    "e^{J} = \\begin{pmatrix}\n",
    "e^{-1} & e^{-1} \\\\\n",
    "0 & e^{-1}\n",
    "\\end{pmatrix} .\n",
    "$$"
   ]
  },
  {
   "cell_type": "code",
   "execution_count": 7,
   "metadata": {
    "ExecuteTime": {
     "end_time": "2019-10-21T18:17:14.377192Z",
     "start_time": "2019-10-21T18:17:14.358165Z"
    },
    "hidden": true
   },
   "outputs": [
    {
     "data": {
      "text/latex": [
       "$$\\left[\\begin{matrix}e^{-1} & e^{-1}\\\\0 & e^{-1}\\end{matrix}\\right]$$"
      ],
      "text/plain": [
       "⎡ -1   -1⎤\n",
       "⎢ℯ    ℯ  ⎥\n",
       "⎢        ⎥\n",
       "⎢      -1⎥\n",
       "⎣ 0   ℯ  ⎦"
      ]
     },
     "execution_count": 7,
     "metadata": {},
     "output_type": "execute_result"
    }
   ],
   "source": [
    "J = sm.Matrix([[-1,1],[0,-1]])\n",
    "sm.exp(J)"
   ]
  },
  {
   "cell_type": "markdown",
   "metadata": {},
   "source": [
    "## Singular Value Decomposition"
   ]
  },
  {
   "cell_type": "markdown",
   "metadata": {},
   "source": [
    "Diagonalization is useful for showing the structure of a matrix, but it has two issues. First, it doesn't work on non-square matrices. Second, while the eigenvalues have many interpretations (which we will see when we get to  differential equations), there are somethings they do not tell you about a matrix. On the other hand, singular values can be computed for any matrix, and they tell you a great deal, especially about matrices with a lot of structure.\n",
    "\n",
    "**Theorem:** Any matrix $A \\in \\mathbb{R}^{m \\times n}$ can be factored into a **singular value decomposition** (SVD),\n",
    "\n",
    "$$\n",
    "A = U \\Sigma V^T,\n",
    "$$\n",
    "\n",
    "where $U \\in \\mathrm{R}^{m \\times m}$ and $V \\in \\mathrm{R}^{n \\times n}$ are orthogonal matrices and $\\Sigma \\in \\mathbb{R}^{m \\times n}$ is a diagonal matrix with $r = \\mathrm{rank}(A)$ leading positive diagonal entries. \n",
    "\n",
    "Let $p = \\min(m,n)$. Then the diagonal entries of $S$ are denoted by $\\sigma_1, ..., \\sigma_p$ are are called the **singular values** of $A$.\n",
    "\n",
    "Interestingly, the singular values satisfy \n",
    "\n",
    "$$\n",
    "\\sigma_1 > \\sigma_2 > ... > \\sigma_p . \n",
    "$$\n",
    "\n",
    "The columns of $U$ are called the **left-singular vectors** of $A$ and the columns of $V$ are called the **right-singular vectors** of $A$. The singular values essentially say how important these vectors are in describing the matrix. "
   ]
  },
  {
   "cell_type": "code",
   "execution_count": 487,
   "metadata": {
    "ExecuteTime": {
     "end_time": "2019-10-21T22:52:57.113538Z",
     "start_time": "2019-10-21T22:52:57.103782Z"
    }
   },
   "outputs": [
    {
     "name": "stdout",
     "output_type": "stream",
     "text": [
      "U =  [[-0.16097514 -0.55900274 -0.81338978]\n",
      " [-0.43793718 -0.69810585  0.5664444 ]\n",
      " [-0.88447613  0.44739709 -0.1324304 ]]\n",
      "\n",
      "\n",
      "Singular Values =  [[-0.16097514 -0.55900274 -0.81338978]\n",
      " [-0.43793718 -0.69810585  0.5664444 ]\n",
      " [-0.88447613  0.44739709 -0.1324304 ]]\n",
      "\n",
      "\n",
      "V =  [[-0.55513075 -0.14253048  0.28444838 -0.69298409 -0.33223046]\n",
      " [-0.69476976 -0.41973182 -0.19775431  0.54890746  0.02672124]\n",
      " [-0.20774588  0.06733543  0.38332553 -0.11667757  0.88980642]\n",
      " [-0.23462747  0.6508658   0.52887893  0.40483083 -0.27878798]\n",
      " [-0.33304119  0.61265807 -0.67329857 -0.20241541  0.13939399]]\n"
     ]
    }
   ],
   "source": [
    "# Example: Compute the SVD of a matrix\n",
    "\n",
    "# Example Matrix\n",
    "A = np.array([\n",
    "    [1, 2, 0, -1, 0], \n",
    "    [3, 4, 1,  0, 0], \n",
    "    [5, 6, 2,  3, 4]\n",
    "])\n",
    "\n",
    "# Compute the SVD\n",
    "U, s, VT = scipy.linalg.svd(A)\n",
    "\n",
    "print(\"U = \", U)\n",
    "print(\"\\n\")\n",
    "print(\"Singular Values = \", U)\n",
    "print(\"\\n\")\n",
    "print(\"V = \", VT.T)"
   ]
  },
  {
   "cell_type": "code",
   "execution_count": 489,
   "metadata": {
    "ExecuteTime": {
     "end_time": "2019-10-21T22:53:22.663073Z",
     "start_time": "2019-10-21T22:53:22.656922Z"
    }
   },
   "outputs": [
    {
     "data": {
      "text/plain": [
       "array([[10.62302402,  0.        ,  0.        ,  0.        ,  0.        ],\n",
       "       [ 0.        ,  2.92102308,  0.        ,  0.        ,  0.        ],\n",
       "       [ 0.        ,  0.        ,  0.78675585,  0.        ,  0.        ]])"
      ]
     },
     "execution_count": 489,
     "metadata": {},
     "output_type": "execute_result"
    }
   ],
   "source": [
    "# The SVD function does not give you the Sigma matrix, so we construct it here.\n",
    "\n",
    "# Create m x n Sigma matrix\n",
    "Sigma = np.zeros((A.shape[0], A.shape[1]))\n",
    "\n",
    "# populate Sigma with n x n diagonal matrix\n",
    "for i in range(len(s)):\n",
    "    Sigma[i,i] = s[i]\n",
    "\n",
    "Sigma"
   ]
  },
  {
   "cell_type": "code",
   "execution_count": 491,
   "metadata": {
    "ExecuteTime": {
     "end_time": "2019-10-21T22:53:35.646491Z",
     "start_time": "2019-10-21T22:53:35.641762Z"
    }
   },
   "outputs": [
    {
     "name": "stdout",
     "output_type": "stream",
     "text": [
      "[[ 1.  2.  0. -1.  0.]\n",
      " [ 3.  4.  1.  0.  0.]\n",
      " [ 5.  6.  2.  3.  4.]]\n"
     ]
    }
   ],
   "source": [
    "# Now we can reconstruct the matrix to make sure it worked.\n",
    "\n",
    "B = np.matmul(np.matmul(U,Sigma),VT)\n",
    "B[np.abs(B) < 0.0001] = 0\n",
    "print(B)"
   ]
  },
  {
   "cell_type": "markdown",
   "metadata": {},
   "source": [
    "SVD For Image Compression\n",
    "---\n",
    "\n",
    "The remarkable thing about the SVD is that the singular values rank the importance of the columns of $U$ (or the columns of V). This idea is captured by the **Ekhart-Young** theorem, which states:\n",
    "\n",
    "**Theorem:** Define $\\hat\\Sigma$ to be the first $k$ columns of $\\Sigma$. Define $\\hat V$ to the the first $k$ rows of $V$ and put\n",
    "\n",
    "$$\n",
    "B  = U \\hat \\Sigma \\hat V .\n",
    "$$\n",
    "\n",
    "If $k < \\mathrm{rank}(A)$ then $B$ is the closed rank $k$ matrix to $A$ among all matrices (using essentially any norm on matrices). Furthermore, $||A-B|| \\approx \\sigma_{k+1}$.\n",
    "\n",
    "We can use this in many ways. For example, $B$ can be considered a bitmap of an image, so that $A_{i,j}$ is the gray scale intensity of the pixel at position $(i,j)$. \n",
    "\n",
    "In this case, we define \n",
    "\n",
    "$$\n",
    "T = U \\hat \\Sigma\n",
    "$$\n",
    "\n",
    "and note that $U$ is $n \\times n$ and $\\Sigma$ is $k \\times k$ so $T$ is $n \\times k$. Also, $V$ is $k \\times k$. Thus, the total number of elements needed to store $B$ is\n",
    "\n",
    "$$\n",
    "nk + k^2\n",
    "$$\n",
    "\n",
    "compared to the original image's $n \\times m$ elements. \n",
    "\n",
    "An algorithm for selecting $k$ is to (a) compute the SVD and choose $k$ so that $\\sigma_{k+1}$ is less than some threshold set by the user. Then just take the first $k$ elements of $U$, $\\Sigma$ and $V$.\n",
    "\n",
    "The example below shows this idea in action. It isn't as good as a real compression algorithm, like JPEG, but it isn't that bad either."
   ]
  },
  {
   "cell_type": "code",
   "execution_count": 26,
   "metadata": {
    "ExecuteTime": {
     "end_time": "2019-10-22T02:50:37.284037Z",
     "start_time": "2019-10-22T02:50:37.047240Z"
    }
   },
   "outputs": [
    {
     "data": {
      "text/latex": [
       "$$\\left ( 372, \\quad 425\\right )$$"
      ],
      "text/plain": [
       "(372, 425)"
      ]
     },
     "execution_count": 26,
     "metadata": {},
     "output_type": "execute_result"
    },
    {
     "data": {
      "image/png": "[encoded data removed]",
      "text/plain": [
       "<Figure size 432x288 with 1 Axes>"
      ]
     },
     "metadata": {},
     "output_type": "display_data"
    }
   ],
   "source": [
    "# Read in a greyscale image as a matrix.\n",
    "\n",
    "A = scipy.ndimage.imread('images/minion.jpg',flatten=True)\n",
    "plt.imshow(A,cmap=\"gray\")\n",
    "A.shape"
   ]
  },
  {
   "cell_type": "code",
   "execution_count": 37,
   "metadata": {
    "ExecuteTime": {
     "end_time": "2019-10-22T04:33:42.040059Z",
     "start_time": "2019-10-22T04:33:41.155387Z"
    }
   },
   "outputs": [
    {
     "data": {
      "text/plain": [
       "Text(0, 0.5, 'Value')"
      ]
     },
     "execution_count": 37,
     "metadata": {},
     "output_type": "execute_result"
    },
    {
     "data": {
      "image/png": "[encoded data removed]",
      "text/plain": [
       "<Figure size 1008x360 with 2 Axes>"
      ]
     },
     "metadata": {},
     "output_type": "display_data"
    }
   ],
   "source": [
    "# Compute the singular-value decomposition\n",
    "U, s, VT = scipy.linalg.svd(A)\n",
    "\n",
    "# create m x n Sigma matrix\n",
    "Sigma = np.zeros((A.shape[0], A.shape[1]))\n",
    "\n",
    "# populate Sigma with n x n diagonal matrix\n",
    "Sigma[:A.shape[0], :A.shape[0]] = np.diag(s)\n",
    "\n",
    "# select n components of Sigma and V\n",
    "n_elements = 150\n",
    "Sigma = Sigma[:, :n_elements]\n",
    "VT = VT[:n_elements, :]\n",
    "\n",
    "# reconstruct\n",
    "B = U.dot(Sigma.dot(VT))\n",
    "\n",
    "fig,ax = plt.subplots(1,2, figsize=(14,5))\n",
    "ax[0].imshow(B,cmap=\"gray\");\n",
    "ax[0].set_title(\"Image reconstruction\\nwith %d components\" % n_elements)\n",
    "ax[1].semilogy(s);\n",
    "ax[1].set_title(\"Singular values\")\n",
    "ax[1].set_xlabel(\"Index\")\n",
    "ax[1].set_ylabel(\"Value\")"
   ]
  },
  {
   "cell_type": "code",
   "execution_count": 38,
   "metadata": {
    "ExecuteTime": {
     "end_time": "2019-10-22T04:33:42.839313Z",
     "start_time": "2019-10-22T04:33:42.831281Z"
    }
   },
   "outputs": [
    {
     "data": {
      "text/plain": [
       "'Compressed image is 75.6% this size of the original'"
      ]
     },
     "execution_count": 38,
     "metadata": {},
     "output_type": "execute_result"
    }
   ],
   "source": [
    "original_size = A.shape[0]*A.shape[1]\n",
    "new_size = U.dot(Sigma).shape[0]*U.dot(Sigma).shape[1] + VT.shape[0]*VT.shape[1] \n",
    "ratio = new_size / original_size\n",
    "\"Compressed image is %.1f%% this size of the original\" % (ratio * 100)"
   ]
  },
  {
   "cell_type": "code",
   "execution_count": 39,
   "metadata": {
    "ExecuteTime": {
     "end_time": "2019-10-22T04:33:43.853769Z",
     "start_time": "2019-10-22T04:33:43.824710Z"
    }
   },
   "outputs": [
    {
     "data": {
      "text/plain": [
       "(97.26164045112202, 97.26162)"
      ]
     },
     "execution_count": 39,
     "metadata": {},
     "output_type": "execute_result"
    }
   ],
   "source": [
    "np.linalg.norm(A - B,ord=2), s[n_elements]"
   ]
  },
  {
   "cell_type": "code",
   "execution_count": 36,
   "metadata": {
    "ExecuteTime": {
     "end_time": "2019-10-22T04:33:26.249112Z",
     "start_time": "2019-10-22T04:33:26.244975Z"
    }
   },
   "outputs": [
    {
     "data": {
      "text/latex": [
       "$$\\left ( 372, \\quad 372\\right )$$"
      ],
      "text/plain": [
       "(372, 372)"
      ]
     },
     "execution_count": 36,
     "metadata": {},
     "output_type": "execute_result"
    }
   ],
   "source": [
    "U.shape"
   ]
  },
  {
   "cell_type": "markdown",
   "metadata": {},
   "source": [
    "Principal Component Analysis\n",
    "---\n",
    "\n",
    "In statistics, principle component analysis (PCA) entails computing the SVD of a dataset after centering the data for each attribute around the mean. That is, write\n",
    "\n",
    "$$\n",
    "X = A - \\mu_A I\n",
    "$$\n",
    "\n",
    "where $\\mu_A = \\mathrm{mean}(A)$ is the mean of the values in $A$. \n",
    "\n",
    "We can the decompose the matrix $X$ to get\n",
    "\n",
    "$$\n",
    "X  = U \\Sigma V^T\n",
    "$$\n",
    "\n",
    "We take the first two principle components of $X$ and form $\\hat\\Sigma$ and $\\hat V$. The matrix $U\\hat\\Sigma$ is then $n \\times 2$ and it represents the data in $X$ collapsed into two columns for each row, instead of $m$ columns for each row.\n",
    "\n",
    "One of the properties of the PCA is that it chooses the direction in which the data is the most variable for the first principle component direction (the first column of $V$). The second principle component direction (the second column of $V$), is the direction of most variability that is orthogonal to the first direction.\n",
    "\n",
    "PCA is used to visualize high dimensional data. For example, in [this paper](https://www.pnas.org/content/102/20/7057/tab-figures-data0), the authors looked at the voting habits of senators in congress, wondering if you could tell if the voting habits of any given senator were predictable. Since that data is a matter of public record, we can try this method out to see what happens.\n",
    "\n",
    "First, let the $n$ senators be numbered $0$, $1$, $2$, ... $n$. Then, let the $m$ issues they have voted on in a given session of congress be numbered $1$, ..., $m$. Write\n",
    "\n",
    "$$\n",
    "A_{i,j} = \\left \\{ \n",
    "\\begin{array}{ll}\n",
    "1 & \\mathrm{voted\\;yes} \\\\\n",
    "-1 & \\mathrm{voted\\;no} \\\\\n",
    "0 & \\mathrm{did\\;not\\;vote} \\\\\n",
    "\\end{array}\n",
    "\\right .\n",
    "$$\n",
    "\n",
    "Then $A \\in \\mathbb{R}^{n \\times m}$. Said differently:\n",
    "\n",
    "> The $i$th row of $A$ is the row-vector of votes of Senator $i$. \n",
    "\n",
    "Next, let $X = A - \\mu_A I$ be the zero centered version of $A$. Computing $T = U \\hat \\Sigma$ with $k=2$ gives a new matrix $T \\in \\mathbb{R}^{n \\times 2})$ The we have:  \n",
    "\n",
    "> The $i$th row of $T$ sums up Senator i's voting habits in two numbers."
   ]
  },
  {
   "cell_type": "code",
   "execution_count": 2,
   "metadata": {
    "ExecuteTime": {
     "end_time": "2019-10-22T02:36:57.558168Z",
     "start_time": "2019-10-22T02:36:57.230219Z"
    }
   },
   "outputs": [],
   "source": [
    "# You can get all sorts of data bout how congress  votes at https://voteview.com/data\n",
    "# Here I have downloaded the data for the Senate in the 116th congress, which is\n",
    "# the one currently in session.\n",
    "\n",
    "my_data = np.genfromtxt('data/S116_votes.csv', delimiter=',', dtype=np.int8)"
   ]
  },
  {
   "cell_type": "code",
   "execution_count": 3,
   "metadata": {
    "ExecuteTime": {
     "end_time": "2019-10-22T02:36:58.996090Z",
     "start_time": "2019-10-22T02:36:58.660402Z"
    }
   },
   "outputs": [
    {
     "data": {
      "text/plain": [
       "'Number of senators: 87. Number of issues: 128'"
      ]
     },
     "execution_count": 3,
     "metadata": {},
     "output_type": "execute_result"
    },
    {
     "data": {
      "image/png": "[encoded data removed]",
      "text/plain": [
       "<Figure size 432x288 with 1 Axes>"
      ]
     },
     "metadata": {},
     "output_type": "display_data"
    }
   ],
   "source": [
    "# The data is not in the form we want, so we have to transform it.\n",
    "# The data's columns are\n",
    "#    _, _, issue id, member id, vote outcome, _\n",
    "# where _ means we don't need this colum.\n",
    "\n",
    "issues = my_data[:,2] \n",
    "\n",
    "members = my_data[:,3]\n",
    "member_ids = np.unique(members)\n",
    "members = [np.where(member_ids == m)[0][0] for m in members]\n",
    "\n",
    "votes = my_data[:,4]\n",
    "\n",
    "yn = [ 0, 1, 1, 1, -1, -1, -1, 0, 0, 0 ]\n",
    "votes = np.array([yn[v] for v in votes])\n",
    "\n",
    "A = np.zeros((len(member_ids), max(issues)+1))\n",
    "for member, issue, vote in zip(members, issues, votes):\n",
    "    A[int(member),int(issue)] = vote\n",
    "\n",
    "plt.imshow(A,cmap=\"gray\");\n",
    "plt.title(\"Senate voting outcomes\")\n",
    "plt.xlabel(\"Issue\")\n",
    "plt.ylabel(\"Senator\")\n",
    "    \n",
    "\"Number of senators: %d. Number of issues: %d\" % A.shape"
   ]
  },
  {
   "cell_type": "code",
   "execution_count": 16,
   "metadata": {
    "ExecuteTime": {
     "end_time": "2019-10-22T02:44:54.133950Z",
     "start_time": "2019-10-22T02:44:53.577296Z"
    }
   },
   "outputs": [
    {
     "data": {
      "text/plain": [
       "Text(0, 0.5, 'Value')"
      ]
     },
     "execution_count": 16,
     "metadata": {},
     "output_type": "execute_result"
    },
    {
     "data": {
      "image/png": "[encoded data removed]",
      "text/plain": [
       "<Figure size 1008x360 with 2 Axes>"
      ]
     },
     "metadata": {},
     "output_type": "display_data"
    }
   ],
   "source": [
    "# Center the data at zero\n",
    "X = A - np.mean(A)\n",
    "\n",
    "# Singular-value decomposition\n",
    "U, s, VT = scipy.linalg.svd(X)\n",
    "\n",
    "# create m x n Sigma matrix\n",
    "Sigma = np.zeros((A.shape[0], A.shape[1]))\n",
    "\n",
    "# populate Sigma with n x n diagonal matrix\n",
    "Sigma[:A.shape[0], :A.shape[0]] = np.diag(s)\n",
    "\n",
    "# select\n",
    "n_elements = 2\n",
    "Sigma = Sigma[:, :n_elements]\n",
    "VT = VT[:n_elements, :]\n",
    "\n",
    "# reconstruct\n",
    "T = U.dot(Sigma)\n",
    "B = T.dot(VT)\n",
    "\n",
    "fig,ax = plt.subplots(1,2, figsize=(14,5))\n",
    "ax[0].imshow(B,cmap=\"gray\");\n",
    "ax[0].set_title(\"Image reconstruction\\nwith %d components\" % n_elements)\n",
    "ax[1].semilogy(s);\n",
    "ax[1].set_title(\"Singular values\")\n",
    "ax[1].set_xlabel(\"Index\")\n",
    "ax[1].set_ylabel(\"Value\")"
   ]
  },
  {
   "cell_type": "code",
   "execution_count": 17,
   "metadata": {
    "ExecuteTime": {
     "end_time": "2019-10-22T02:44:57.407839Z",
     "start_time": "2019-10-22T02:44:57.402419Z"
    }
   },
   "outputs": [
    {
     "data": {
      "text/plain": [
       "array([ 1.,  1.,  1.,  1., -1.,  1.,  1.,  0.,  0.,  0.,  0.,  0.,  0.,\n",
       "        0.,  0.,  0.,  0.,  0.,  0.,  0.,  0.,  0.,  0.,  0.,  0.,  0.,\n",
       "        0.,  0.,  0.,  0.,  0.,  0.,  0.,  0.,  0.,  0.,  0.,  0.,  0.,\n",
       "        1.,  1.,  1.,  1.,  1.,  1.,  1., -1.,  1.,  1., -1.,  1.,  1.,\n",
       "        1.,  1., -1.,  1.,  1.,  1.,  1.,  1.,  1.,  0.,  1.,  1.,  1.,\n",
       "        1.,  1.,  1.,  1.,  1.,  1.,  1.,  1.,  1.,  1.,  1.,  1.,  1.,\n",
       "        1., -1., -1.,  1.,  1.,  1.,  1.,  1.,  1.,  1.,  1.,  1.,  1.,\n",
       "        1.,  1.,  1., -1., -1.,  1.,  1.,  1.,  1.,  1.,  1.,  1., -1.,\n",
       "       -1., -1.,  1.,  1.,  1.,  1.,  1.,  1.,  1.,  1.,  1.,  1.,  1.,\n",
       "        1.,  1.,  1.,  1.,  1.,  1.,  1.,  1.,  1.,  1.,  1.])"
      ]
     },
     "execution_count": 17,
     "metadata": {},
     "output_type": "execute_result"
    }
   ],
   "source": [
    "# Voting habits of Senator number 50\n",
    "A[50]"
   ]
  },
  {
   "cell_type": "code",
   "execution_count": 18,
   "metadata": {
    "ExecuteTime": {
     "end_time": "2019-10-22T02:44:58.244825Z",
     "start_time": "2019-10-22T02:44:58.240553Z"
    }
   },
   "outputs": [
    {
     "data": {
      "text/plain": [
       "array([-2.88946408, -4.08894449])"
      ]
     },
     "execution_count": 18,
     "metadata": {},
     "output_type": "execute_result"
    }
   ],
   "source": [
    "# Voting habits of Senator number 50 summed into two numbers\n",
    "T[50]"
   ]
  },
  {
   "cell_type": "code",
   "execution_count": 25,
   "metadata": {
    "ExecuteTime": {
     "end_time": "2019-10-22T02:47:30.619544Z",
     "start_time": "2019-10-22T02:47:30.365180Z"
    }
   },
   "outputs": [
    {
     "data": {
      "text/plain": [
       "Text(0, 0.5, 'Second component')"
      ]
     },
     "execution_count": 25,
     "metadata": {},
     "output_type": "execute_result"
    },
    {
     "data": {
      "image/png": "[encoded data removed]",
      "text/plain": [
       "<Figure size 432x288 with 1 Axes>"
      ]
     },
     "metadata": {},
     "output_type": "display_data"
    }
   ],
   "source": [
    "# Here's a plot of the data. It shows the senators clustering into two\n",
    "# main clusters. One of the clusters is more varied than the other, suggesting\n",
    "# more independence within that cluster. It also shows there are a number of \n",
    "# senators who do not really vote with either cluster.\n",
    "\n",
    "T = U.dot(Sigma)\n",
    "plt.scatter(T[:,0], T[:,1])\n",
    "plt.gca().set_aspect(2)\n",
    "plt.title(\"Senators clustered by\\nvoting habits in 2019-2020\")\n",
    "plt.xlabel(\"First component\")\n",
    "plt.ylabel(\"Second component\")"
   ]
  }
 ],
 "metadata": {
  "kernelspec": {
   "display_name": "Python 3",
   "language": "python",
   "name": "python3"
  },
  "language_info": {
   "codemirror_mode": {
    "name": "ipython",
    "version": 3
   },
   "file_extension": ".py",
   "mimetype": "text/x-python",
   "name": "python",
   "nbconvert_exporter": "python",
   "pygments_lexer": "ipython3",
   "version": "3.6.1"
  }
 },
 "nbformat": 4,
 "nbformat_minor": 2
}
