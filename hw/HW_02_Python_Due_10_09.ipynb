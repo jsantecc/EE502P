{
 "cells": [
  {
   "cell_type": "markdown",
   "metadata": {
    "ExecuteTime": {
     "end_time": "2019-09-24T16:05:23.746666Z",
     "start_time": "2019-09-24T16:05:23.741461Z"
    }
   },
   "source": [
    "## EE 502 P: Analytical Methods for Electrical Engineering\n",
    "    \n",
    "# Homework 2: Sets, functions, and relations\n",
    "## Due 9 October, 2019 at 6:00 PM\n",
    "### <span style=\"color: red\">YOUR NAME HERE</span>\n",
    "\n",
    "Copyright &copy; 2019, University of Washington\n",
    "\n",
    "<hr>\n",
    "\n",
    "**Instructions**: Use this notebook as a template. Answer all questions using well formatted Markdown with embedded LaTeX equations, executable Jupyter cells, or both. Submit your homework solutions as an `.ipynb` file via Canvas.\n",
    "\n",
    "<span style=\"background: yellow; padding: 6px; border: 1pt solid black\">\n",
    "Although you may discuss the homework with others, you must turn in your own, original work.\n",
    "</span>\n",
    "\n",
    "**Things to remember:**\n",
    "- Use complete sentences. Equations should appear in text as grammatical elements.\n",
    "- Comment your code.\n",
    "- Label your axes. Title your plots. Use legends where appropriate. \n",
    "- Before submitting a notebook, choose Kernel -> Restart and Run All to make sure your notebook runs when the cells are evaluated in order. \n",
    "\n",
    "Note : Late homework will be accepted up to one week after the due date and will be worth 50% of its full credit score. "
   ]
  },
  {
   "cell_type": "markdown",
   "metadata": {},
   "source": [
    "### 0. Warmup (Do not turn in)\n",
    "\n",
    "- Make sure you get download and run the notebook for lecture 2. Work through the notebook cell by cell and see what happens when you change the expressions, and make up some of your own.\n",
    "- Read chapter one of [An Introduction to Real Analysis](https://www.math.ucdavis.edu/~hunter/intro_analysis_pdf/intro.pdf) by John K. Hunter. You can skim the sections on index sets and infinite unions and intersections.\n",
    "- Read up on [sets](https://www.w3schools.com/python/python_sets.asp), [tuples](https://www.w3schools.com/python/python_tuples.asp), and [lambdas](https://www.w3schools.com/python/python_lambda.asp) at python.org."
   ]
  },
  {
   "cell_type": "markdown",
   "metadata": {},
   "source": [
    "### 1. Sets\n",
    "\n",
    "Lorum ipsum."
   ]
  },
  {
   "cell_type": "markdown",
   "metadata": {},
   "source": [
    "### 2. Injection, surjection, bijection\n",
    "\n",
    "Which of the following functions is injective, surjective and bijective? For functions for which the property holds, explain why. For functions for which the property does not hold, give a counterexample."
   ]
  },
  {
   "cell_type": "markdown",
   "metadata": {},
   "source": [
    "### 9 Cardinality\n",
    "\n",
    "a) A polynomial with integer coefficients is a an expression like $2 x^3 + 3 x^2 - 4 x + 8$. Show that the set of all polynomials with integer coefficients is countable. \n",
    "\n",
    "b) A number is called *algebraic* if is is the root of some polynomial with integer coefficients. For example, $\\sqrt 2$ is algebraic because it is a root of the polynomial $x^2 - 2$. Use (a) to show that the set of algebraic numbers is countable. \n",
    "\n",
    "c) A number is called **transcendental** if it is neither rational nor algebraic. Using (b) and facts discussed in class, explain why the set of transcendental numbers in $\\mathbb{R}$ is uncountable. "
   ]
  }
 ],
 "metadata": {
  "kernelspec": {
   "display_name": "Python 3",
   "language": "python",
   "name": "python3"
  },
  "language_info": {
   "codemirror_mode": {
    "name": "ipython",
    "version": 3
   },
   "file_extension": ".py",
   "mimetype": "text/x-python",
   "name": "python",
   "nbconvert_exporter": "python",
   "pygments_lexer": "ipython3",
   "version": "3.6.1"
  }
 },
 "nbformat": 4,
 "nbformat_minor": 2
}
