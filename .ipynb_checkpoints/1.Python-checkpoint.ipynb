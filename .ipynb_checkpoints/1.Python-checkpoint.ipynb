{
 "cells": [
  {
   "cell_type": "markdown",
   "metadata": {},
   "source": [
    "EE 502 P: Analytical Methods for Electrical Engineering\n",
    "# 1: Python for Analysis\n",
    "## Prof. Eric Klavins, Electrical and Computer Engineering\n",
    "### 25 September, 2019\n",
    "Copyright &copy; 2019, University of Washington\n",
    "\n",
    "<hr>"
   ]
  },
  {
   "cell_type": "markdown",
   "metadata": {
    "heading_collapsed": true
   },
   "source": [
    "# Course Structure"
   ]
  },
  {
   "cell_type": "markdown",
   "metadata": {
    "hidden": true
   },
   "source": [
    "**Instructor**: Prof. Eric Klavins\n",
    "**TA**: Victor Cannestro\n",
    "\n",
    "**Goals**: To make mathematics fun. To flex your brain muscles. To remind you of things you might have forgotten, but will need for the rest of the PMP program. To point you toward where you can learn more. \n",
    "\n",
    "The [Canvas page](https://canvas.uw.edu/courses/1319727) will have\n",
    "- The schedule\n",
    "- The homework assignments\n",
    "- Your grades\n",
    "- A discussion thread for each topic.\n",
    "\n",
    "**Schedule (Tentative)**:\n",
    "- 9/25: Python for Analysis\n",
    "- 10/2: Sets, functions, relations, and reasoning\n",
    "- 10/9: Calculus Review\n",
    "- 10/16: Differential Equations\n",
    "- 10/23: Transforms\n",
    "- 10/30: Linear Algebra\n",
    "- 11/6: Linear Differential Equations\n",
    "- 11/13: Probability\n",
    "- 11/20: Machine Learning\n",
    "- 11/27: Topic TBA\n",
    "- 12/4: Review\n",
    "- FINALS WEEK: Final homework/project due Friday of finals week. Worth 2X regular homework\n",
    "\n",
    "**Grading**: 10 homeworks worth on unit, one take-home final worth 2 units for a total of 11 units.\n",
    "\n",
    "**Homework Schedule**:\n",
    "- Wednesday: HW $n$ assigned\n",
    "- Following Wednesday: HW $n$ due before class, HW $n+1$ due\n",
    "- By Sunday: HW $n$ graded\n",
    "\n",
    "**Office Hours**:\n",
    "- 5-6PM: Wednesdays in CSE 236 (Eric)\n",
    "- Saturdays and Mondays, 6-8pm, Online (Victor)\n",
    "\n",
    "**Text**: None. Readings will be assigned from electronic sources. \n"
   ]
  },
  {
   "cell_type": "markdown",
   "metadata": {
    "collapsed": true,
    "heading_collapsed": true
   },
   "source": [
    "# Python and Jupyter Installation"
   ]
  },
  {
   "cell_type": "markdown",
   "metadata": {
    "hidden": true
   },
   "source": [
    "To run the code for this course, you will need access to the following tools:\n",
    "- Python version 3.4 or greater\n",
    "- The [Jupyter](https://jupyter.org/index.html) notebook environment\n",
    "- Basic Python libraries: [Numpy](https://numpy.org/), [Scipy](https://www.scipy.org/), [Sympy](https://www.sympy.org/en/index.html), and [Matplotlib](https://matplotlib.org/).\n",
    "- For lecture 9, you will also need [PyTorch](https://pytorch.org/). \n",
    "\n",
    "## Anaconda\n",
    "\n",
    "The [Anaconda Distribution](https://www.anaconda.com/distribution/) is the easiest way to install Python, Jupyter, NumPy and a number of other Python libraries. Once installed, to add more libraries you use the `conda` command. Use this option if you have a Mac or a PC and currently do not have any version of Python on your computer.\n",
    "\n",
    "## Pip\n",
    "\n",
    "If you install (or have installed) Python directly using the distribution at [Python.org](https://www.python.org) you will also get `pip`, which you can use to install additional libraries. You will need to then install Jupyter, numpy, scipy, sympy, and matplotlib using the `pip install` command. Use this version if you are running Linux or are a more advanced Mac user. \n",
    "\n",
    "## Docker\n",
    "\n",
    "Python is notoriously annoying to install and it is easy to get multiple conflicting versions on your computer. To avoid all that, those of you computer savvy types may want to use Docker to run Python and Jupyter. You can find python stacks [here](https://github.com/jupyter/docker-stacks). \n",
    "\n",
    "## Online\n",
    "\n",
    "The easiest way to run Jupyter is to use [Google Colab](https://colab.research.google.com), where you can run all these tools for free in the cloud. You get what you pay for, and it is a bit clunky, but it is good enough that some classes use Colab exclusively."
   ]
  },
  {
   "cell_type": "markdown",
   "metadata": {
    "heading_collapsed": true
   },
   "source": [
    "# Jupyter Basics"
   ]
  },
  {
   "cell_type": "markdown",
   "metadata": {
    "hidden": true
   },
   "source": [
    "- You should be able to enter and run code in a cell. Note you can type Shift-Return or Shift-Enter to evaluate a cell.\n",
    "- Code is evaluated in the order you run the cells in a notebook, and not the order the code appears in the notebook.\n",
    "- The cell type can be switched to `Markdown`, which allows you to enter formatted text. See [here](https://www.markdownguide.org/cheat-sheet/) for details. Also, open any one of the Markdown cells in this notebook.\n",
    "- Sometimes Jupyter gets stuck. To cancel the currently evaluating cell, use the `Stop` button in the menu. To really stop things, choose `Kernel->Restart`. \n",
    "- More resources on how to use Jupyter are [here](https://jupyter.org/documentation)."
   ]
  },
  {
   "cell_type": "markdown",
   "metadata": {
    "collapsed": true,
    "heading_collapsed": true
   },
   "source": [
    "# Python Documentation"
   ]
  },
  {
   "cell_type": "markdown",
   "metadata": {
    "hidden": true
   },
   "source": [
    "## Basics\n",
    "\n",
    "- Python [core documentation](https://docs.python.org/3/). Go year for basic tutorials, syntax, data structures, and control statements. You work through do the [informal introduction](https://docs.python.org/3/tutorial/introduction.html#) at your earliest convenience. \n",
    "- [W3Schools](https://www.w3schools.com/python/) also has a nice tutorial.\n",
    "- Numpy and Scipy [documentation](https://docs.scipy.org/doc/). \n",
    "- Matplotlib [documentation](https://matplotlib.org/).\n",
    "- SymPy [documentation](https://docs.sympy.org/latest/index.html).\n",
    "\n",
    "## Debugging\n",
    "\n",
    "When trying to figure out how to do something in Python, Google and [Stackoverflow](https://stackoverflow.com/) are your best bets. For example, if you search for \n",
    "\n",
    "> python get every other element in list\n",
    "\n",
    "You get the very helpful response [here](https://stackoverflow.com/questions/8865878/skipping-every-other-element-after-the-first):\n",
    "\n",
    "```python\n",
    "def altElement(a):\n",
    "    return a[::2]\n",
    "```\n",
    "\n",
    "More generally:\n",
    "\n",
    "<img src=\"https://i.pinimg.com/originals/53/be/34/53be34c987b10821f7c10b9d88436b92.jpg\" alt=\"drawing\" style=\"width:400px;\"/>"
   ]
  },
  {
   "cell_type": "markdown",
   "metadata": {
    "heading_collapsed": true
   },
   "source": [
    "# Python's Syntax"
   ]
  },
  {
   "cell_type": "markdown",
   "metadata": {
    "hidden": true
   },
   "source": [
    "Python's syntax is similar to many other languages. Here, we just highlight some idiosyncrasies.\n",
    "\n",
    "## Colons\n",
    "\n",
    "Python code has seemingly useless and extraneous colons after control statements, function definitions, and class definitions. For example\n",
    "\n",
    "```python\n",
    "if x < 1:\n",
    "    x = 2\n",
    "    \n",
    "def f(x):\n",
    "    return x+1\n",
    "    \n",
    "class Cat:\n",
    "    def sound():\n",
    "        return \"meow\"\n",
    "       \n",
    "```\n",
    "\n",
    "## Whitespace and indenting\n",
    "\n",
    "Where other languages, like `C` use curly braces to denote blocks, Python requires you to indent to show hierarchical relationships. For example, the above three lines illustrating colons, also have indented second lines. The third line of the class definition is also indented to show the return statement is part of the method definition. You will get errors if you indent incorrectly. "
   ]
  },
  {
   "cell_type": "code",
   "execution_count": null,
   "metadata": {
    "ExecuteTime": {
     "end_time": "2019-09-23T20:09:54.751355Z",
     "start_time": "2019-09-23T20:09:54.747219Z"
    },
    "collapsed": true,
    "hidden": true
   },
   "outputs": [],
   "source": [
    "if True:\n",
    "    x = 1\n",
    "     y = 2"
   ]
  },
  {
   "cell_type": "markdown",
   "metadata": {
    "ExecuteTime": {
     "end_time": "2019-09-23T20:41:59.307883Z",
     "start_time": "2019-09-23T20:41:59.303307Z"
    },
    "hidden": true
   },
   "source": [
    "## End of line\n",
    "\n",
    "The end of a line usually terminates a statement. You can use the semicolon to put multiple statements on a line.\n",
    "\n",
    "```python\n",
    "x = 1\n",
    "y = 2; z = 3\n",
    "```\n",
    "\n",
    "Also, in jupyter notebooks, the result of the last statement in a cell is printed when the cell is evaluated. To avoid this, use a semicolon after the last statement."
   ]
  },
  {
   "cell_type": "code",
   "execution_count": null,
   "metadata": {
    "ExecuteTime": {
     "end_time": "2019-09-23T20:43:02.916023Z",
     "start_time": "2019-09-23T20:43:02.913324Z"
    },
    "collapsed": true,
    "hidden": true
   },
   "outputs": [],
   "source": [
    "x = 1\n",
    "x;"
   ]
  },
  {
   "cell_type": "markdown",
   "metadata": {
    "hidden": true
   },
   "source": [
    "## Long lines\n",
    "\n",
    "If you have a long line of code, you should break it up to make it more readable. You can use the backslash to continue a line:"
   ]
  },
  {
   "cell_type": "code",
   "execution_count": null,
   "metadata": {
    "ExecuteTime": {
     "end_time": "2019-09-23T20:15:46.398392Z",
     "start_time": "2019-09-23T20:15:46.387784Z"
    },
    "collapsed": true,
    "hidden": true
   },
   "outputs": [],
   "source": [
    "x = 1\n",
    "\n",
    "if x < -1 or \\\n",
    "   x > 2 or  \\\n",
    "   x is 0:\n",
    "    print(\"hello\")"
   ]
  },
  {
   "cell_type": "markdown",
   "metadata": {
    "hidden": true
   },
   "source": [
    "## Comments\n",
    "\n",
    "Comments start with a hash `#` as in\n",
    "\n",
    "```python\n",
    "# Here is an if statement\n",
    "if x < 1: # test\n",
    "    print(\"x is less than one\") # body\n",
    "```\n",
    "\n",
    "You can also put comments in a function definition to make documentation for the function."
   ]
  },
  {
   "cell_type": "code",
   "execution_count": null,
   "metadata": {
    "ExecuteTime": {
     "end_time": "2019-09-23T20:18:40.129133Z",
     "start_time": "2019-09-23T20:18:40.084358Z"
    },
    "collapsed": true,
    "hidden": true
   },
   "outputs": [],
   "source": [
    "def f(x):\n",
    "    \"\"\"\n",
    "    This is a function that takes a single argument x and returns its negation. \n",
    "    \"\"\"\n",
    "    return -x\n",
    "\n",
    "?f"
   ]
  },
  {
   "cell_type": "markdown",
   "metadata": {
    "hidden": true
   },
   "source": [
    "You can put the question mark in front of any function to get its doc string printed out (if it has one). For example,"
   ]
  },
  {
   "cell_type": "code",
   "execution_count": null,
   "metadata": {
    "ExecuteTime": {
     "end_time": "2019-09-23T20:37:25.289150Z",
     "start_time": "2019-09-23T20:37:25.277512Z"
    },
    "collapsed": true,
    "hidden": true
   },
   "outputs": [],
   "source": [
    "import numpy as np\n",
    "\n",
    "?np.linspace"
   ]
  },
  {
   "cell_type": "markdown",
   "metadata": {
    "heading_collapsed": true
   },
   "source": [
    "# Python's Types"
   ]
  },
  {
   "cell_type": "markdown",
   "metadata": {
    "hidden": true
   },
   "source": [
    "Types\n",
    "---\n",
    "Like any language, Python supports numbers, strings, booleans, arrays, hashes and a special type called `None`. Python also allows the user or application developer to define custom types, called *classes*, whose values are called *objects*. Although we may not define our own classes in this course, we will have many opportunities to work with classes and objects defined by other oprogrammers."
   ]
  },
  {
   "cell_type": "markdown",
   "metadata": {
    "hidden": true
   },
   "source": [
    "**Numbers**"
   ]
  },
  {
   "cell_type": "code",
   "execution_count": null,
   "metadata": {
    "collapsed": true,
    "hidden": true
   },
   "outputs": [],
   "source": [
    "1"
   ]
  },
  {
   "cell_type": "code",
   "execution_count": null,
   "metadata": {
    "collapsed": true,
    "hidden": true
   },
   "outputs": [],
   "source": [
    "-0.00748"
   ]
  },
  {
   "cell_type": "code",
   "execution_count": null,
   "metadata": {
    "collapsed": true,
    "hidden": true
   },
   "outputs": [],
   "source": [
    "4.2E-3"
   ]
  },
  {
   "cell_type": "code",
   "execution_count": null,
   "metadata": {
    "collapsed": true,
    "hidden": true
   },
   "outputs": [],
   "source": [
    "0xABC"
   ]
  },
  {
   "cell_type": "code",
   "execution_count": null,
   "metadata": {
    "ExecuteTime": {
     "end_time": "2019-09-24T16:13:22.287380Z",
     "start_time": "2019-09-24T16:13:22.260826Z"
    },
    "hidden": true
   },
   "outputs": [],
   "source": [
    "3 + 4j"
   ]
  },
  {
   "cell_type": "markdown",
   "metadata": {
    "hidden": true
   },
   "source": [
    "**Strings**"
   ]
  },
  {
   "cell_type": "code",
   "execution_count": null,
   "metadata": {
    "collapsed": true,
    "hidden": true
   },
   "outputs": [],
   "source": [
    "\"Hello World\""
   ]
  },
  {
   "cell_type": "code",
   "execution_count": null,
   "metadata": {
    "collapsed": true,
    "hidden": true
   },
   "outputs": [],
   "source": [
    "\"EE447\""
   ]
  },
  {
   "cell_type": "markdown",
   "metadata": {
    "hidden": true
   },
   "source": [
    "**Booleans**"
   ]
  },
  {
   "cell_type": "code",
   "execution_count": null,
   "metadata": {
    "collapsed": true,
    "hidden": true
   },
   "outputs": [],
   "source": [
    "True"
   ]
  },
  {
   "cell_type": "code",
   "execution_count": null,
   "metadata": {
    "collapsed": true,
    "hidden": true
   },
   "outputs": [],
   "source": [
    "False"
   ]
  },
  {
   "cell_type": "markdown",
   "metadata": {
    "hidden": true
   },
   "source": [
    "**Arrays**, a.k.a. **Lists**"
   ]
  },
  {
   "cell_type": "code",
   "execution_count": null,
   "metadata": {
    "collapsed": true,
    "hidden": true
   },
   "outputs": [],
   "source": [
    "[1,2,3]"
   ]
  },
  {
   "cell_type": "code",
   "execution_count": null,
   "metadata": {
    "collapsed": true,
    "hidden": true
   },
   "outputs": [],
   "source": [
    "[\"A\", \"B\", \"C\"]"
   ]
  },
  {
   "cell_type": "code",
   "execution_count": null,
   "metadata": {
    "collapsed": true,
    "hidden": true
   },
   "outputs": [],
   "source": [
    "[1, [2,3], [\"A\", [ \"B\", 1.23 ]]]"
   ]
  },
  {
   "cell_type": "markdown",
   "metadata": {
    "hidden": true
   },
   "source": [
    "**Hashes**, a.k.a. **Dictionaries**"
   ]
  },
  {
   "cell_type": "code",
   "execution_count": null,
   "metadata": {
    "collapsed": true,
    "hidden": true
   },
   "outputs": [],
   "source": [
    "{ \"x\": 1, \"y\": \"ECE447\", \"c\": [2,3], 4: 5 }"
   ]
  },
  {
   "cell_type": "markdown",
   "metadata": {
    "hidden": true
   },
   "source": [
    "**None**\n",
    "The object `None` is of type `None` and doesn't do anything. It is used when methods need to return something, but there is no actual value to return."
   ]
  },
  {
   "cell_type": "code",
   "execution_count": null,
   "metadata": {
    "collapsed": true,
    "hidden": true
   },
   "outputs": [],
   "source": [
    "None"
   ]
  },
  {
   "cell_type": "markdown",
   "metadata": {
    "hidden": true
   },
   "source": [
    "Variables and Assignments\n",
    "---\n",
    "\n",
    "A variable can be assigned to any value, or to the value of another variable. Variable names must start with an alphabetic character or an underscore, and can contain alphabnumeric characters or underscores."
   ]
  },
  {
   "cell_type": "code",
   "execution_count": null,
   "metadata": {
    "collapsed": true,
    "hidden": true
   },
   "outputs": [],
   "source": [
    "x = -2.5E-4"
   ]
  },
  {
   "cell_type": "code",
   "execution_count": null,
   "metadata": {
    "collapsed": true,
    "hidden": true
   },
   "outputs": [],
   "source": [
    "y = x"
   ]
  },
  {
   "cell_type": "code",
   "execution_count": null,
   "metadata": {
    "collapsed": true,
    "hidden": true
   },
   "outputs": [],
   "source": [
    "z = [ x, y ]"
   ]
  },
  {
   "cell_type": "code",
   "execution_count": null,
   "metadata": {
    "collapsed": true,
    "hidden": true
   },
   "outputs": [],
   "source": [
    "[x,y,z]"
   ]
  },
  {
   "cell_type": "markdown",
   "metadata": {
    "hidden": true
   },
   "source": [
    "Above, the assignment to z makes a *copy* of x, so that reassigning x does not affect z."
   ]
  },
  {
   "cell_type": "code",
   "execution_count": null,
   "metadata": {
    "collapsed": true,
    "hidden": true
   },
   "outputs": [],
   "source": [
    "x = 7"
   ]
  },
  {
   "cell_type": "code",
   "execution_count": null,
   "metadata": {
    "collapsed": true,
    "hidden": true
   },
   "outputs": [],
   "source": [
    "z"
   ]
  },
  {
   "cell_type": "markdown",
   "metadata": {
    "hidden": true
   },
   "source": [
    "Operators\n",
    "---\n",
    "Operators take one or more values and return new values of the same types, or of different types. "
   ]
  },
  {
   "cell_type": "markdown",
   "metadata": {
    "hidden": true
   },
   "source": [
    "**Numeric Operators**: +, -, *, /, %, ^"
   ]
  },
  {
   "cell_type": "code",
   "execution_count": null,
   "metadata": {
    "collapsed": true,
    "hidden": true
   },
   "outputs": [],
   "source": [
    "1+2*4/(5%2)"
   ]
  },
  {
   "cell_type": "code",
   "execution_count": null,
   "metadata": {
    "collapsed": true,
    "hidden": true
   },
   "outputs": [],
   "source": [
    "2**3"
   ]
  },
  {
   "cell_type": "markdown",
   "metadata": {
    "hidden": true
   },
   "source": [
    "**Comparison Operators**"
   ]
  },
  {
   "cell_type": "code",
   "execution_count": null,
   "metadata": {
    "collapsed": true,
    "hidden": true
   },
   "outputs": [],
   "source": [
    "2 < 3"
   ]
  },
  {
   "cell_type": "code",
   "execution_count": null,
   "metadata": {
    "collapsed": true,
    "hidden": true
   },
   "outputs": [],
   "source": [
    "5 >= 8"
   ]
  },
  {
   "cell_type": "code",
   "execution_count": null,
   "metadata": {
    "collapsed": true,
    "hidden": true
   },
   "outputs": [],
   "source": [
    "5 == 0"
   ]
  },
  {
   "cell_type": "markdown",
   "metadata": {
    "hidden": true
   },
   "source": [
    "**Boolean Operators**"
   ]
  },
  {
   "cell_type": "code",
   "execution_count": null,
   "metadata": {
    "collapsed": true,
    "hidden": true
   },
   "outputs": [],
   "source": [
    "True and False"
   ]
  },
  {
   "cell_type": "code",
   "execution_count": null,
   "metadata": {
    "collapsed": true,
    "hidden": true
   },
   "outputs": [],
   "source": [
    "True or False"
   ]
  },
  {
   "cell_type": "code",
   "execution_count": null,
   "metadata": {
    "collapsed": true,
    "hidden": true
   },
   "outputs": [],
   "source": [
    "not True"
   ]
  },
  {
   "cell_type": "code",
   "execution_count": null,
   "metadata": {
    "collapsed": true,
    "hidden": true
   },
   "outputs": [],
   "source": [
    "2 < 3 or 3 < 2"
   ]
  },
  {
   "cell_type": "markdown",
   "metadata": {
    "hidden": true
   },
   "source": [
    "**Array Operators**\n",
    "\n",
    "Arrays can be index with brackets.\n",
    "* `a[i]` returns the `i`th value of `a` (starting at index `0`)\n",
    "* `a[i:j]` returns values `i` through `j`, with `i` inclusive and `j` exclusive\n",
    "* A negative index starts from the end and goes backwards\n",
    "* Leaving out an index means 0 in the first spot means 0 and in the last spot means max"
   ]
  },
  {
   "cell_type": "code",
   "execution_count": null,
   "metadata": {
    "collapsed": true,
    "hidden": true
   },
   "outputs": [],
   "source": [
    "a = [\"a\",\"b\",\"c\",\"d\",\"e\",\"f\",\"g\"]"
   ]
  },
  {
   "cell_type": "code",
   "execution_count": null,
   "metadata": {
    "collapsed": true,
    "hidden": true
   },
   "outputs": [],
   "source": [
    "a[0]"
   ]
  },
  {
   "cell_type": "code",
   "execution_count": null,
   "metadata": {
    "collapsed": true,
    "hidden": true
   },
   "outputs": [],
   "source": [
    "a[1]"
   ]
  },
  {
   "cell_type": "code",
   "execution_count": null,
   "metadata": {
    "collapsed": true,
    "hidden": true
   },
   "outputs": [],
   "source": [
    "a[1:5]"
   ]
  },
  {
   "cell_type": "code",
   "execution_count": null,
   "metadata": {
    "collapsed": true,
    "hidden": true
   },
   "outputs": [],
   "source": [
    "a[:3]"
   ]
  },
  {
   "cell_type": "code",
   "execution_count": null,
   "metadata": {
    "collapsed": true,
    "hidden": true
   },
   "outputs": [],
   "source": [
    "a[-2]"
   ]
  },
  {
   "cell_type": "code",
   "execution_count": null,
   "metadata": {
    "collapsed": true,
    "hidden": true
   },
   "outputs": [],
   "source": [
    "a[-5:-3]"
   ]
  },
  {
   "cell_type": "markdown",
   "metadata": {
    "hidden": true
   },
   "source": [
    "**Strides**\n",
    "The syntax `a[i:j:k]` returns every `k`th value from `i` through `j`"
   ]
  },
  {
   "cell_type": "code",
   "execution_count": null,
   "metadata": {
    "collapsed": true,
    "hidden": true
   },
   "outputs": [],
   "source": [
    "a[0::2]"
   ]
  },
  {
   "cell_type": "code",
   "execution_count": null,
   "metadata": {
    "collapsed": true,
    "hidden": true
   },
   "outputs": [],
   "source": [
    "a[::-1]"
   ]
  },
  {
   "cell_type": "markdown",
   "metadata": {
    "hidden": true
   },
   "source": [
    "**Matrices**\n",
    "Note that matrices, which we will use frequenctly, are just arrays of arrays of numbers. The main confusion is that in moth engineering and math textbooks, matrices are 1-indexed, but in most programming languages they are zero-indexed."
   ]
  },
  {
   "cell_type": "code",
   "execution_count": null,
   "metadata": {
    "collapsed": true,
    "hidden": true
   },
   "outputs": [],
   "source": [
    "m = [ [1, 2, 3], [4, 5, 6], [7, 8, 9] ]"
   ]
  },
  {
   "cell_type": "code",
   "execution_count": null,
   "metadata": {
    "collapsed": true,
    "hidden": true
   },
   "outputs": [],
   "source": [
    "m[0]"
   ]
  },
  {
   "cell_type": "code",
   "execution_count": null,
   "metadata": {
    "collapsed": true,
    "hidden": true
   },
   "outputs": [],
   "source": [
    "m[1][2]"
   ]
  },
  {
   "cell_type": "markdown",
   "metadata": {
    "hidden": true
   },
   "source": [
    "**The hash accessor**"
   ]
  },
  {
   "cell_type": "code",
   "execution_count": null,
   "metadata": {
    "collapsed": true,
    "hidden": true
   },
   "outputs": [],
   "source": [
    "h = { \"x\": 1, \"y\": \"ECE447\", \"c\": [2,3], 4: 5 }"
   ]
  },
  {
   "cell_type": "code",
   "execution_count": null,
   "metadata": {
    "collapsed": true,
    "hidden": true
   },
   "outputs": [],
   "source": [
    "h[\"x\"]"
   ]
  },
  {
   "cell_type": "markdown",
   "metadata": {
    "hidden": true
   },
   "source": [
    "Array Methods\n",
    "---\n",
    "Arrays are used in many ways in Python, so a number of built in functions are defined to deal with them. These include:\n",
    "* `len(a)` - return the length of the array\n",
    "* `a.append(x)` - append x to the end of a\n",
    "* `range(n)` - return somerthing that acts like the array [0, 1, ..., n-1]"
   ]
  },
  {
   "cell_type": "code",
   "execution_count": null,
   "metadata": {
    "collapsed": true,
    "hidden": true
   },
   "outputs": [],
   "source": [
    "a = [1,2,3]\n",
    "len(a)"
   ]
  },
  {
   "cell_type": "code",
   "execution_count": null,
   "metadata": {
    "collapsed": true,
    "hidden": true
   },
   "outputs": [],
   "source": [
    "a.append(4)\n",
    "a"
   ]
  },
  {
   "cell_type": "code",
   "execution_count": null,
   "metadata": {
    "collapsed": true,
    "hidden": true
   },
   "outputs": [],
   "source": [
    "b = range(10)\n",
    "b[5]"
   ]
  },
  {
   "cell_type": "code",
   "execution_count": null,
   "metadata": {
    "ExecuteTime": {
     "end_time": "2019-09-23T21:10:42.902251Z",
     "start_time": "2019-09-23T21:10:42.897306Z"
    },
    "hidden": true
   },
   "outputs": [],
   "source": [
    "# A list comprehension is a way of making a new list\n",
    "\n",
    "a = range(10)\n",
    "b = [x**2 for x in a]\n",
    "b"
   ]
  },
  {
   "cell_type": "code",
   "execution_count": null,
   "metadata": {
    "ExecuteTime": {
     "end_time": "2019-09-23T21:12:29.988582Z",
     "start_time": "2019-09-23T21:12:29.984057Z"
    },
    "hidden": true
   },
   "outputs": [],
   "source": [
    "# You can add some control to choose which elements to use\n",
    "c = [x for x in a if x%2 is 0]\n",
    "c"
   ]
  },
  {
   "cell_type": "code",
   "execution_count": null,
   "metadata": {
    "ExecuteTime": {
     "end_time": "2019-09-23T21:12:49.127207Z",
     "start_time": "2019-09-23T21:12:49.122791Z"
    },
    "hidden": true
   },
   "outputs": [],
   "source": [
    "# You can contatenate arrays together\n",
    "# Note that a is a range, not a list, so we convert it to a list first\n",
    "list(a) + b + c"
   ]
  },
  {
   "cell_type": "markdown",
   "metadata": {
    "heading_collapsed": true
   },
   "source": [
    "# Control, Functions, and Classes"
   ]
  },
  {
   "cell_type": "markdown",
   "metadata": {
    "hidden": true
   },
   "source": [
    "Control Flow\n",
    "---\n",
    "Python includes standard control flow keywords like `if`, `for`, and `while`. Note that in Python, the code inside a control flow block is started with a `:` and *must be indented* (which is dumb, but that's Python)."
   ]
  },
  {
   "cell_type": "code",
   "execution_count": null,
   "metadata": {
    "collapsed": true,
    "hidden": true
   },
   "outputs": [],
   "source": [
    "s = \"two\"\n",
    "x = None\n",
    "if s == \"one\": \n",
    "    x = 1\n",
    "elif s == \"two\":\n",
    "    x = 2;\n",
    "else:\n",
    "    x = 10000;\n",
    "x"
   ]
  },
  {
   "cell_type": "code",
   "execution_count": null,
   "metadata": {
    "collapsed": true,
    "hidden": true
   },
   "outputs": [],
   "source": [
    "x=0\n",
    "for i in range(10):\n",
    "    x = x + i\n",
    "x"
   ]
  },
  {
   "cell_type": "code",
   "execution_count": null,
   "metadata": {
    "collapsed": true,
    "hidden": true
   },
   "outputs": [],
   "source": [
    "x = 2\n",
    "while x < 100:\n",
    "    x = x*x\n",
    "x"
   ]
  },
  {
   "cell_type": "markdown",
   "metadata": {
    "hidden": true
   },
   "source": [
    "## Functions\n",
    "\n",
    "A function is a way to encapsulate a certain calculation or algorithm. Use them as often as possible, especially if you find you are repeating yourself. A good acronym to remember is DRY = \"Don't Repeat Yourself\". It is the opposite of WET = \"Write Everything Twice\" or \"We Enjoy Typing\"."
   ]
  },
  {
   "cell_type": "code",
   "execution_count": null,
   "metadata": {
    "collapsed": true,
    "hidden": true
   },
   "outputs": [],
   "source": [
    "def f(x,m,b):\n",
    "    return m*x + b"
   ]
  },
  {
   "cell_type": "code",
   "execution_count": null,
   "metadata": {
    "collapsed": true,
    "hidden": true
   },
   "outputs": [],
   "source": [
    "f(1,2,3)"
   ]
  },
  {
   "cell_type": "code",
   "execution_count": null,
   "metadata": {
    "collapsed": true,
    "hidden": true
   },
   "outputs": [],
   "source": [
    "def sum(start, stop):\n",
    "    s = 0\n",
    "    for x in range(start,stop+1):\n",
    "        s = s + x\n",
    "    return s"
   ]
  },
  {
   "cell_type": "code",
   "execution_count": null,
   "metadata": {
    "collapsed": true,
    "hidden": true
   },
   "outputs": [],
   "source": [
    "sum(1,10)"
   ]
  },
  {
   "cell_type": "markdown",
   "metadata": {
    "hidden": true
   },
   "source": [
    "## Keyword arguments\n",
    "\n",
    "You may encounter (oir even define yourself) functions whose arguments have defaults. These are very useful because the *order* of the arguments does not matter, so you can't accidentally call such a function with the arguments reversed."
   ]
  },
  {
   "cell_type": "code",
   "execution_count": null,
   "metadata": {
    "collapsed": true,
    "hidden": true
   },
   "outputs": [],
   "source": [
    "def another_sum(start,stop,step=1):\n",
    "    s = 0\n",
    "    for x in range(start,stop+1,step):\n",
    "        s = s + x\n",
    "    return s    "
   ]
  },
  {
   "cell_type": "code",
   "execution_count": null,
   "metadata": {
    "collapsed": true,
    "hidden": true
   },
   "outputs": [],
   "source": [
    "another_sum(1,10) # returns 1 + 2 + ... + 10 = 55"
   ]
  },
  {
   "cell_type": "code",
   "execution_count": null,
   "metadata": {
    "collapsed": true,
    "hidden": true
   },
   "outputs": [],
   "source": [
    "another_sum(1,10,2) # returns 1 + 3 + 5 + 7 + 9 = 25"
   ]
  },
  {
   "cell_type": "markdown",
   "metadata": {
    "hidden": true
   },
   "source": [
    "## Classes and Objects\n",
    "\n",
    "Classes are ways to include data and code that belong together. For example, here is a very simple fraction class."
   ]
  },
  {
   "cell_type": "code",
   "execution_count": null,
   "metadata": {
    "collapsed": true,
    "hidden": true
   },
   "outputs": [],
   "source": [
    "class Fraction:\n",
    "    def __init__(self,a,b):\n",
    "        self.numerator = a\n",
    "        self.denominator = b\n",
    "    def to_decimal(self):\n",
    "        return self.numerator / self.denominator\n",
    "    def recipricol(self):\n",
    "        return Fraction(self.denominator, self.numerator)"
   ]
  },
  {
   "cell_type": "markdown",
   "metadata": {
    "hidden": true
   },
   "source": [
    "To construct new `Fraction` objects using the Fraction class, we call `Fraction` as though it were a function. And to access the methods in a fraction object, we use the `.` operator."
   ]
  },
  {
   "cell_type": "code",
   "execution_count": null,
   "metadata": {
    "collapsed": true,
    "hidden": true
   },
   "outputs": [],
   "source": [
    "x = Fraction(2,5)\n",
    "y = x.recipricol()\n",
    "y.denominator"
   ]
  },
  {
   "cell_type": "code",
   "execution_count": null,
   "metadata": {
    "collapsed": true,
    "hidden": true
   },
   "outputs": [],
   "source": [
    "x.to_decimal()"
   ]
  },
  {
   "cell_type": "code",
   "execution_count": null,
   "metadata": {
    "collapsed": true,
    "hidden": true
   },
   "outputs": [],
   "source": [
    "y.to_decimal()"
   ]
  },
  {
   "cell_type": "markdown",
   "metadata": {
    "hidden": true
   },
   "source": [
    "You can get a list of all the methods in an object using the `dir()` method, as in:"
   ]
  },
  {
   "cell_type": "code",
   "execution_count": null,
   "metadata": {
    "collapsed": true,
    "hidden": true
   },
   "outputs": [],
   "source": [
    "dir(x)"
   ]
  },
  {
   "cell_type": "markdown",
   "metadata": {
    "ExecuteTime": {
     "end_time": "2019-09-24T18:24:35.568548Z",
     "start_time": "2019-09-24T18:24:35.560101Z"
    },
    "hidden": true
   },
   "source": [
    "## Exceptions"
   ]
  },
  {
   "cell_type": "code",
   "execution_count": null,
   "metadata": {
    "ExecuteTime": {
     "end_time": "2019-09-25T20:36:39.777205Z",
     "start_time": "2019-09-25T20:36:39.770193Z"
    },
    "hidden": true
   },
   "outputs": [],
   "source": [
    "# Some code might not work, but you may wish the surrounding code to keep going. \n",
    "# To do that, surround your code with an exception handler. For example,\n",
    "\n",
    "del(x,y) # undefines x and y\n",
    "\n",
    "try:\n",
    "    y = x \n",
    "except:\n",
    "    print(\"x was not defined, so it is being set to 1\")\n",
    "    x = 1\n",
    "    y = x\n",
    "\n",
    "y"
   ]
  },
  {
   "cell_type": "code",
   "execution_count": null,
   "metadata": {
    "ExecuteTime": {
     "end_time": "2019-09-25T20:38:45.987124Z",
     "start_time": "2019-09-25T20:38:45.976004Z"
    },
    "hidden": true
   },
   "outputs": [],
   "source": [
    "# If a function you write encounters a problem, then you can throw a custom error instead of \n",
    "# letting Python handle it. For example,\n",
    "\n",
    "def recip(x,y):\n",
    "    if x == 0:\n",
    "        raise Exception(\"The recipricol of %d/%d is not defined.\" % (x,y))\n",
    "    else:\n",
    "        return y/x\n",
    "    \n",
    "print(recip(1,2))\n",
    "print(recip(0,2))"
   ]
  },
  {
   "cell_type": "markdown",
   "metadata": {
    "heading_collapsed": true
   },
   "source": [
    "# Importing Libraries"
   ]
  },
  {
   "cell_type": "markdown",
   "metadata": {
    "hidden": true
   },
   "source": [
    "Importing Libraries\n",
    "---\n",
    "A library or *module* is a set of code, usually includeing functions, but also including new types of objects, that is not installed in Python by default. We will use a few libraries in this course. One of the main ones is `numpy`, which includes lots and lots of numerical methods. The following line of code imports the `numpy` library and calls it `np` so that you don't have to type as much later. Note that `np` is an object, so it is a number of functions (or methods) in it that are accessible via the `.` operator.\n",
    "\n",
    "Note that you only need to import a library once (unless you restart the Jupyter notebook)."
   ]
  },
  {
   "cell_type": "code",
   "execution_count": null,
   "metadata": {
    "ExecuteTime": {
     "end_time": "2019-09-23T20:54:07.220385Z",
     "start_time": "2019-09-23T20:54:07.206242Z"
    },
    "hidden": true
   },
   "outputs": [],
   "source": [
    "import random\n",
    "\n",
    "r1 = random.choice([1,2,3,4,5,6,7])\n",
    "r2 = random.randint(0,100)\n",
    "r3 = random.gauss(0,1)\n",
    "\n",
    "print(r1,r2,r3)\n",
    "\n",
    "from random import choice, randint, gauss\n",
    "\n",
    "r4 = choice([1,2,3,4,5,6,7])\n",
    "r5 = randint(0,100)\n",
    "r6 = gauss(0,1)\n",
    "\n",
    "print(r4,r5,r6)\n",
    "\n",
    "import random as qwerty\n",
    "\n",
    "r7 = qwerty.random()\n",
    "\n",
    "r7"
   ]
  },
  {
   "cell_type": "markdown",
   "metadata": {
    "heading_collapsed": true
   },
   "source": [
    "# Numerical Computation with Numpy"
   ]
  },
  {
   "cell_type": "markdown",
   "metadata": {
    "hidden": true
   },
   "source": [
    "One of the most useful Python libraries for scientists and engineers is [Numpy](https://numpy.org/devdocs/user/quickstart.html), a suite of methods for dealing with floating point numbers, arrays, vectors, and tensors. \n",
    "\n",
    "To start using numpy, we have to import it. As is customary, we call the imported object `np`."
   ]
  },
  {
   "cell_type": "code",
   "execution_count": null,
   "metadata": {
    "ExecuteTime": {
     "end_time": "2019-09-23T20:56:39.083513Z",
     "start_time": "2019-09-23T20:56:38.959789Z"
    },
    "collapsed": true,
    "hidden": true
   },
   "outputs": [],
   "source": [
    "import numpy as np"
   ]
  },
  {
   "cell_type": "markdown",
   "metadata": {
    "hidden": true
   },
   "source": [
    "##  Arrays and matrices\n",
    "\n",
    "The basic object that is manipulated in Numpy is the array, which is initialized with a list of numbers. The cool thing about numpy arrays is that, unlike basic Python lists, they can be used in complex mathematical expressions."
   ]
  },
  {
   "cell_type": "code",
   "execution_count": null,
   "metadata": {
    "ExecuteTime": {
     "end_time": "2019-09-23T21:01:05.107054Z",
     "start_time": "2019-09-23T21:01:05.095909Z"
    },
    "hidden": true
   },
   "outputs": [],
   "source": [
    "x = np.array([1,2,3])\n",
    "y = np.array([4,5,6])\n",
    "x*y"
   ]
  },
  {
   "cell_type": "code",
   "execution_count": null,
   "metadata": {
    "ExecuteTime": {
     "end_time": "2019-09-23T21:01:24.270920Z",
     "start_time": "2019-09-23T21:01:24.263944Z"
    },
    "hidden": true
   },
   "outputs": [],
   "source": [
    "# This gives an error though\n",
    "[1,2,3]*[4,5,6]"
   ]
  },
  {
   "cell_type": "code",
   "execution_count": null,
   "metadata": {
    "ExecuteTime": {
     "end_time": "2019-09-23T21:25:30.665765Z",
     "start_time": "2019-09-23T21:25:30.660308Z"
    },
    "hidden": true
   },
   "outputs": [],
   "source": [
    "# You can make matrices as well and manipulate them as you would in math.\n",
    "M = np.array([\n",
    "    [1,2,3],\n",
    "    [4,5,6]\n",
    "])\n",
    "\n",
    "M.T # Transpose the array"
   ]
  },
  {
   "cell_type": "code",
   "execution_count": null,
   "metadata": {
    "ExecuteTime": {
     "end_time": "2019-09-23T21:05:03.917878Z",
     "start_time": "2019-09-23T21:05:03.910000Z"
    },
    "hidden": true
   },
   "outputs": [],
   "source": [
    "# There are a number of constructors available\n",
    "\n",
    "x = np.zeros([5,10])    # 5 rows, 10 columns\n",
    "y = np.ones([10,5])     # 10 rows, five columns\n",
    "z = np.random.rand(3,3) # square matrix of numbers between 0 and 1\n",
    "\n",
    "x,y,z"
   ]
  },
  {
   "cell_type": "code",
   "execution_count": null,
   "metadata": {
    "ExecuteTime": {
     "end_time": "2019-09-23T21:08:37.280353Z",
     "start_time": "2019-09-23T21:08:37.274621Z"
    },
    "hidden": true
   },
   "outputs": [],
   "source": [
    "# linspace and arange are particularly useful\n",
    "\n",
    "s = np.linspace(0,10,11) \n",
    "t = np.arange(-2*np.pi, 2*np.pi+0.01 ,np.pi) # its \"a range\" for \"array range\" not \"arrange\"\n",
    "\n",
    "s,t "
   ]
  },
  {
   "cell_type": "code",
   "execution_count": null,
   "metadata": {
    "ExecuteTime": {
     "end_time": "2019-09-23T21:13:35.919161Z",
     "start_time": "2019-09-23T21:13:35.911543Z"
    },
    "hidden": true
   },
   "outputs": [],
   "source": [
    "# You can reshape arrays if needed\n",
    "\n",
    "a = np.random.rand(25)\n",
    "a = a.reshape(5,5)\n",
    "a"
   ]
  },
  {
   "cell_type": "code",
   "execution_count": null,
   "metadata": {
    "ExecuteTime": {
     "end_time": "2019-09-23T21:27:54.731674Z",
     "start_time": "2019-09-23T21:27:54.722998Z"
    },
    "hidden": true
   },
   "outputs": [],
   "source": [
    "# You can also stack matrices\n",
    "\n",
    "a = np.floor(10*np.random.random((2,2)))\n",
    "b = np.floor(10*np.random.random((2,2)))\n",
    "\n",
    "X = np.vstack((a,b))\n",
    "Y = np.hstack((a,b))\n",
    "\n",
    "print(a)\n",
    "print(b)\n",
    "print(X)\n",
    "print(Y)\n"
   ]
  },
  {
   "cell_type": "markdown",
   "metadata": {
    "hidden": true
   },
   "source": [
    "## Operations on numpy arrays\n",
    "\n",
    "You can treat numpy arrays like vectors and matrices, and apply numpy enabled functions to them.\n",
    "\n",
    "The math functions in numpy include trigonometric functions, exponentials, logs, roots, powers, min, max, argmin, argmax, etc. Full lists are all over the Internet. For example, [here](https://www.geeksforgeeks.org/numpy-mathematical-function/) one."
   ]
  },
  {
   "cell_type": "code",
   "execution_count": null,
   "metadata": {
    "ExecuteTime": {
     "end_time": "2019-09-23T21:20:03.560798Z",
     "start_time": "2019-09-23T21:20:03.554648Z"
    },
    "hidden": true
   },
   "outputs": [],
   "source": [
    "t = np.linspace(0,10,11)\n",
    "\n",
    "print(t+t)\n",
    "print(t*t)\n",
    "print(np.sin(t))\n",
    "print(2*t + 1 / np.exp(t))"
   ]
  },
  {
   "cell_type": "code",
   "execution_count": null,
   "metadata": {
    "ExecuteTime": {
     "end_time": "2019-09-23T21:20:31.481332Z",
     "start_time": "2019-09-23T21:20:31.474392Z"
    },
    "hidden": true
   },
   "outputs": [],
   "source": [
    "# Note that math functions don't work.\n",
    "\n",
    "import math\n",
    "\n",
    "math.sin(t)"
   ]
  },
  {
   "cell_type": "code",
   "execution_count": null,
   "metadata": {
    "ExecuteTime": {
     "end_time": "2019-09-23T21:21:22.742167Z",
     "start_time": "2019-09-23T21:21:22.737145Z"
    },
    "hidden": true
   },
   "outputs": [],
   "source": [
    "# You can make this work with your own functions\n",
    "\n",
    "def f(x):\n",
    "    return 2*x - np.sqrt(x)\n",
    "\n",
    "f(t)"
   ]
  },
  {
   "cell_type": "code",
   "execution_count": null,
   "metadata": {
    "ExecuteTime": {
     "end_time": "2019-09-23T21:25:51.585292Z",
     "start_time": "2019-09-23T21:25:51.573261Z"
    },
    "hidden": true
   },
   "outputs": [],
   "source": [
    "# Matrix algebra\n",
    "\n",
    "x = np.array([\n",
    "    [1],\n",
    "    [2],\n",
    "    [3]\n",
    "])\n",
    "\n",
    "A = np.array([\n",
    "    [-1,0,2],\n",
    "    [0,1,1],\n",
    "    [0,-2,0]\n",
    "])\n",
    "\n",
    "B = np.array([\n",
    "    [0,1,0],\n",
    "    [0,0,1],\n",
    "    [1,0,0]    \n",
    "])\n",
    "\n",
    "print(x.T@x)\n",
    "print(x@x.T)\n",
    "print(A*B)\n",
    "print(A@B)\n",
    "print(A@x)\n",
    "print(np.linalg.inv(A))"
   ]
  },
  {
   "cell_type": "markdown",
   "metadata": {
    "hidden": true
   },
   "source": [
    "## Indexing"
   ]
  },
  {
   "cell_type": "code",
   "execution_count": null,
   "metadata": {
    "ExecuteTime": {
     "end_time": "2019-09-23T21:45:43.596232Z",
     "start_time": "2019-09-23T21:45:43.591337Z"
    },
    "hidden": true
   },
   "outputs": [],
   "source": [
    "# You can use a list of integers as indcies into another array\n",
    "\n",
    "i = np.array([0,2,4,6,8])\n",
    "x = np.arange(1,10,1)\n",
    "x[i]"
   ]
  },
  {
   "cell_type": "code",
   "execution_count": null,
   "metadata": {
    "ExecuteTime": {
     "end_time": "2019-09-23T21:47:38.107386Z",
     "start_time": "2019-09-23T21:47:38.102244Z"
    },
    "hidden": true
   },
   "outputs": [],
   "source": [
    "# You can use python indexing\n",
    "\n",
    "x = np.arange(1,10,1)\n",
    "print(x[2:4])\n",
    "print(x[::-1])\n",
    "print(x[7:])"
   ]
  },
  {
   "cell_type": "code",
   "execution_count": null,
   "metadata": {
    "ExecuteTime": {
     "end_time": "2019-09-23T21:56:44.309696Z",
     "start_time": "2019-09-23T21:56:44.304278Z"
    },
    "hidden": true
   },
   "outputs": [],
   "source": [
    "# You can slice things up \n",
    "\n",
    "A = np.linspace(1,36,36).reshape(6,6)\n",
    "\n",
    "print(A)\n",
    "print(A[:,3]) # Can't do this with python lists"
   ]
  },
  {
   "cell_type": "code",
   "execution_count": null,
   "metadata": {
    "ExecuteTime": {
     "end_time": "2019-09-23T21:57:05.719989Z",
     "start_time": "2019-09-23T21:57:05.714699Z"
    },
    "hidden": true
   },
   "outputs": [],
   "source": [
    "# You can use Boolean expressions\n",
    "\n",
    "condition = A%2 == 0\n",
    "B = A[condition].reshape(6,3)\n",
    "print(condition)\n",
    "print(B)"
   ]
  },
  {
   "cell_type": "markdown",
   "metadata": {
    "ExecuteTime": {
     "end_time": "2019-09-23T17:40:49.570865Z",
     "start_time": "2019-09-23T17:40:49.567064Z"
    },
    "heading_collapsed": true
   },
   "source": [
    "# Visualization"
   ]
  },
  {
   "cell_type": "markdown",
   "metadata": {
    "hidden": true
   },
   "source": [
    "We will almost exclusively use [matplotlib](https://matplotlib.org/) for plotting in this course. For more examples, see [these examples](https://matplotlib.org/gallery/index.html) at the matplotlib website."
   ]
  },
  {
   "cell_type": "code",
   "execution_count": null,
   "metadata": {
    "ExecuteTime": {
     "end_time": "2019-09-25T20:45:40.978661Z",
     "start_time": "2019-09-25T20:45:40.968914Z"
    },
    "hidden": true
   },
   "outputs": [],
   "source": [
    "import matplotlib.pyplot as plt\n",
    "%matplotlib inline"
   ]
  },
  {
   "cell_type": "markdown",
   "metadata": {
    "heading_collapsed": true,
    "hidden": true
   },
   "source": [
    "## Plotting functions of one variable"
   ]
  },
  {
   "cell_type": "code",
   "execution_count": null,
   "metadata": {
    "ExecuteTime": {
     "end_time": "2019-09-23T22:08:55.685232Z",
     "start_time": "2019-09-23T22:08:55.498362Z"
    },
    "hidden": true
   },
   "outputs": [],
   "source": [
    "# To plot basic 1D functions, use code such as the following\n",
    "\n",
    "t = np.linspace(-2*np.pi, 2*np.pi, 1000)\n",
    "fig,ax = plt.subplots(1,1)\n",
    "ax.plot(t,np.sin(t))"
   ]
  },
  {
   "cell_type": "code",
   "execution_count": null,
   "metadata": {
    "ExecuteTime": {
     "end_time": "2019-09-23T22:11:18.271322Z",
     "start_time": "2019-09-23T22:11:18.083268Z"
    },
    "hidden": true
   },
   "outputs": [],
   "source": [
    "# To make the plot look nice, we fix the axes, label things, and make a title\n",
    "\n",
    "fig,ax = plt.subplots(1,1)\n",
    "ax.plot(t,y)\n",
    "ax.set_xticks(np.pi * np.array([-2,-1,0,1,2]))\n",
    "ax.set_xticklabels([\"-2$\\pi$\", \"-$\\pi$\", \"0\", \"$\\pi$\", \"2$\\pi$\"]) # See Latex notes below\n",
    "ax.set_xlabel(\"t\")\n",
    "ax.set_ylabel(\"sin(t)\")\n",
    "ax.set_title(\"A fundamental trig function\");"
   ]
  },
  {
   "cell_type": "code",
   "execution_count": null,
   "metadata": {
    "ExecuteTime": {
     "end_time": "2019-09-23T22:14:17.251647Z",
     "start_time": "2019-09-23T22:14:16.915647Z"
    },
    "hidden": true
   },
   "outputs": [],
   "source": [
    "# You can overlay many plots\n",
    "\n",
    "fig,ax = plt.subplots(1,1)\n",
    "for theta in np.arange(0,2*np.pi,np.pi/4):\n",
    "    ax.plot(t,np.sin(t+theta),label=\"$\\\\theta$ = %0.2f\" % theta)\n",
    "fig.legend();\n",
    "ax.set_xlabel(\"t\")\n",
    "ax.set_ylabel(\"sin(t+$\\\\theta$)\");"
   ]
  },
  {
   "cell_type": "code",
   "execution_count": null,
   "metadata": {
    "ExecuteTime": {
     "end_time": "2019-09-23T22:16:02.790058Z",
     "start_time": "2019-09-23T22:16:02.572201Z"
    },
    "hidden": true
   },
   "outputs": [],
   "source": [
    "# You can use different markers\n",
    "\n",
    "t1 = np.linspace(-2*np.pi, 2*np.pi, 100)\n",
    "t2 = np.linspace(-2*np.pi, 2*np.pi, 10)\n",
    "fig,ax = plt.subplots(1,1)\n",
    "ax.plot(t1,np.sin(t1))\n",
    "ax.plot(t2,np.sin(t2),\"o\")"
   ]
  },
  {
   "cell_type": "code",
   "execution_count": null,
   "metadata": {
    "ExecuteTime": {
     "end_time": "2019-09-23T22:20:44.457266Z",
     "start_time": "2019-09-23T22:20:43.934555Z"
    },
    "hidden": true
   },
   "outputs": [],
   "source": [
    "# You can make a grid of plots\n",
    "\n",
    "t = np.linspace(-2*np.pi, 2*np.pi, 1000)\n",
    "fig,ax = plt.subplots(2,2, figsize=(10,6))\n",
    "ax[0,0].plot(t,np.sin(t)); ax[0,0].set_title(\"sin\")\n",
    "ax[0,1].plot(t,np.cos(t)); ax[0,1].set_title(\"cos\")\n",
    "ax[1,0].plot(t,np.tan(t)); ax[1,0].set_title(\"tan\"); ax[1,0].set_ylim(-4,4)\n",
    "ax[1,1].plot(t,np.exp(t)); ax[1,1].set_title(\"exp\");"
   ]
  },
  {
   "cell_type": "markdown",
   "metadata": {
    "heading_collapsed": true,
    "hidden": true
   },
   "source": [
    "## Plotting functions of two variables"
   ]
  },
  {
   "cell_type": "code",
   "execution_count": null,
   "metadata": {
    "ExecuteTime": {
     "end_time": "2019-09-23T23:06:02.293217Z",
     "start_time": "2019-09-23T23:06:02.285964Z"
    },
    "hidden": true
   },
   "outputs": [],
   "source": [
    "# To plot functions of two variables, you need a meshgrid\n",
    "\n",
    "x = np.arange(0,3,1)\n",
    "y = np.arange(3,6,1)\n",
    "\n",
    "X,Y = np.meshgrid(x,y)\n",
    "Z = X+Y\n",
    "\n",
    "print(X)\n",
    "print(Y)\n",
    "print(Z)"
   ]
  },
  {
   "cell_type": "code",
   "execution_count": null,
   "metadata": {
    "ExecuteTime": {
     "end_time": "2019-09-23T23:06:21.788448Z",
     "start_time": "2019-09-23T23:06:21.348892Z"
    },
    "hidden": true
   },
   "outputs": [],
   "source": [
    "from mpl_toolkits.mplot3d import Axes3D  # noqa: F401 unused import\n",
    "\n",
    "fig = plt.figure(figsize=(10,6))\n",
    "ax = fig.add_subplot(111, projection='3d')\n",
    "\n",
    "# Make data.\n",
    "X = np.arange(-5, 5, 0.25)\n",
    "Y = np.arange(-5, 5, 0.25)\n",
    "X, Y = np.meshgrid(X, Y)\n",
    "R = np.sqrt(X**2 + Y**2)\n",
    "Z = np.sin(R)/(1+R)\n",
    "\n",
    "# Plot the surface with face colors taken from the array we made.\n",
    "surf = ax.plot_surface(X, Y, Z, cmap='twilight_shifted')\n",
    "\n",
    "# Add labels\n",
    "ax.set_xlabel('X')\n",
    "ax.set_ylabel('Y')\n",
    "ax.set_zlabel('Z');\n"
   ]
  },
  {
   "cell_type": "markdown",
   "metadata": {
    "heading_collapsed": true,
    "hidden": true
   },
   "source": [
    "## Plotting 2D arrays of pixels"
   ]
  },
  {
   "cell_type": "code",
   "execution_count": null,
   "metadata": {
    "ExecuteTime": {
     "end_time": "2019-09-23T23:11:39.708028Z",
     "start_time": "2019-09-23T23:11:39.432497Z"
    },
    "hidden": true
   },
   "outputs": [],
   "source": [
    "data = np.random.rand(200,200)\n",
    "plt.imshow(data,cmap=\"gray\")\n",
    "plt.colorbar();"
   ]
  },
  {
   "cell_type": "code",
   "execution_count": null,
   "metadata": {
    "ExecuteTime": {
     "end_time": "2019-09-23T23:16:31.222075Z",
     "start_time": "2019-09-23T23:16:31.013228Z"
    },
    "hidden": true
   },
   "outputs": [],
   "source": [
    "x = np.arange(0,np.pi/2,0.1)\n",
    "y = np.arange(0,np.pi/2,0.1)\n",
    "x,y = np.meshgrid(x,y)\n",
    "z = (np.sin(x**2+y**2)+1)/2\n",
    "p = plt.contourf(x,y,z,cmap=\"Oranges\")\n",
    "plt.contour(p,colors='black')"
   ]
  },
  {
   "cell_type": "code",
   "execution_count": null,
   "metadata": {
    "ExecuteTime": {
     "end_time": "2019-09-23T23:31:01.701441Z",
     "start_time": "2019-09-23T23:31:01.484910Z"
    },
    "hidden": true
   },
   "outputs": [],
   "source": [
    "x = np.linspace(-50,50,101)\n",
    "y = np.linspace(-50,50,101)\n",
    "x,y = np.meshgrid(x,y)\n",
    "z = (x**2 + y**2)%150\n",
    "fig = plt.figure(figsize=(6,6))\n",
    "ax = fig.add_subplot(111)\n",
    "p = ax.imshow(z,cmap=\"winter_r\")"
   ]
  },
  {
   "cell_type": "markdown",
   "metadata": {
    "hidden": true
   },
   "source": [
    "## Making arbitrary shapes"
   ]
  },
  {
   "cell_type": "markdown",
   "metadata": {
    "ExecuteTime": {
     "end_time": "2019-09-23T23:41:18.968710Z",
     "start_time": "2019-09-23T23:41:18.964846Z"
    },
    "hidden": true
   },
   "source": [
    "See [here](https://matplotlib.org/3.1.1/api/artist_api.html) for a list of all the shapes you can make."
   ]
  },
  {
   "cell_type": "code",
   "execution_count": null,
   "metadata": {
    "ExecuteTime": {
     "end_time": "2019-09-25T20:45:43.152583Z",
     "start_time": "2019-09-25T20:45:42.938917Z"
    },
    "hidden": true
   },
   "outputs": [],
   "source": [
    "import matplotlib.patches as pch\n",
    "\n",
    "face  = pch.Circle((0, 0), 1, facecolor='yellow', edgecolor=\"black\")\n",
    "left  = pch.Circle((-0.4, 0.3), 0.1, color='black')\n",
    "right = pch.Circle((0.4, 0.3), 0.1, color='black')\n",
    "\n",
    "mouth = pch.Arc((0,-0.1), 1.1, 0.9, angle=0, theta1=200, theta2=340, edgecolor='black',linewidth=5)\n",
    "\n",
    "fig, ax = plt.subplots()\n",
    "\n",
    "ax.add_artist(face)\n",
    "ax.add_artist(left)\n",
    "ax.add_artist(right)\n",
    "ax.add_artist(mouth)\n",
    "\n",
    "ax.set_aspect(1)\n",
    "ax.set_xlim(-1.2,1.2)\n",
    "ax.set_ylim(-1.2,1.2)"
   ]
  },
  {
   "cell_type": "markdown",
   "metadata": {
    "hidden": true
   },
   "source": [
    "## Making animations"
   ]
  },
  {
   "cell_type": "markdown",
   "metadata": {
    "hidden": true
   },
   "source": [
    "To make an animation, you basically draw a picture over and over with different value for the locations of elements in the picture. For example, to animate a bouncing ball, we define a position $(x,y)$ for the ball and a velocity vector $(v,w)$. Using the equations of motion for a falling object, we then have\n",
    "\n",
    "$$\n",
    "\\begin{eqnarray}\n",
    "\\frac{dv}{dt} & = & 0 \\;\\;\\;\\;\\;\\;\\;\\;\n",
    "\\frac{dw}{dt} & = & g \\;\\;\\;\\;\\;\\;\\;\\;\n",
    "\\frac{dx}{dt} & = & v \\;\\;\\;\\;\\;\\;\\;\\;\n",
    "\\frac{dy}{dt} & = & w\n",
    "\\end{eqnarray}\n",
    "$$\n",
    "\n",
    "where $g \\approx -10$ is the force due to gravity.\n",
    "\n",
    "To make the ball bounce, we have updates say that whenever the ball reaches a horizontal wall, the horizontal velocity gets negated. Actually, we set \n",
    "\n",
    "$$\n",
    "v \\leftarrow - \\gamma v\n",
    "$$\n",
    "\n",
    "to decrease the energy of the ball. The constant gamma is called the coefficient of restitution. Similarly, when we hit the ground, we do\n",
    "\n",
    "$$\n",
    "v \\leftarrow - \\gamma v \\\\\n",
    "w \\leftarrow - \\gamma w\n",
    "$$\n",
    "\n",
    "The code below shows how to animate this in Python."
   ]
  },
  {
   "cell_type": "code",
   "execution_count": null,
   "metadata": {
    "ExecuteTime": {
     "end_time": "2019-09-25T20:49:41.073963Z",
     "start_time": "2019-09-25T20:49:41.061495Z"
    },
    "collapsed": true,
    "hidden": true
   },
   "outputs": [],
   "source": [
    "# We need the animation library to do animations\n",
    "from matplotlib import animation\n",
    "from JSAnimation.IPython_display import display_animation"
   ]
  },
  {
   "cell_type": "code",
   "execution_count": null,
   "metadata": {
    "ExecuteTime": {
     "end_time": "2019-09-25T21:11:53.327962Z",
     "start_time": "2019-09-25T21:11:41.673595Z"
    },
    "hidden": true
   },
   "outputs": [],
   "source": [
    "# Constants\n",
    "g = -10         # Force due to gravity\n",
    "r = 0.25        # Radius of ball\n",
    "dt = 0.05       # Integration step size\n",
    "frames = 200    # Number of frames to animate\n",
    "gamma = 0.9     # Coefficient of restitution\n",
    "k = 0.95        # Coefficient of friction\n",
    "\n",
    "# Variables\n",
    "x, y = 1, 1.75  # positions\n",
    "v, w = 1, 0     # velocities\n",
    "\n",
    "# Drawing\n",
    "fig = plt.figure()\n",
    "ax = plt.axes(xlim=(0, 2), ylim=(-0.1, 2))\n",
    "ball = pch.Circle((x, y), r, facecolor='yellow', edgecolor=\"black\")\n",
    "ax.add_artist(ball)\n",
    "ax.plot([0,2], [0,0])\n",
    "ax.set_aspect(1)\n",
    "\n",
    "# Animation function. This gets called sequentially, once for each frame\n",
    "def animate(i):\n",
    "    \n",
    "    global x, y, v, w # Try commenting this line out to see what happens\n",
    "            \n",
    "    w += dt * g        \n",
    "    x += dt * v\n",
    "    y += dt * w\n",
    "    \n",
    "    if x <= r:\n",
    "        x = r\n",
    "        v = -gamma*v\n",
    "        \n",
    "    if x >= 2-r:\n",
    "        x = 2-r\n",
    "        v = -gamma*v\n",
    "        \n",
    "    if y <= r:\n",
    "        y = r\n",
    "        v = k*v\n",
    "        w = -gamma*w\n",
    "    \n",
    "    ball.set_center((x,y))\n",
    "    return ball,\n",
    "\n",
    "# Build and display the animation\n",
    "anim = animation.FuncAnimation(fig, animate, frames=frames, interval=20)\n",
    "display_animation(anim, default_mode='loop')"
   ]
  },
  {
   "cell_type": "markdown",
   "metadata": {
    "heading_collapsed": true
   },
   "source": [
    "# Symbolic Computation"
   ]
  },
  {
   "cell_type": "markdown",
   "metadata": {
    "hidden": true
   },
   "source": [
    "Python includes symbolic mathematics package called sympy in which you can have symbolic variables and symbolic answers to mathematical questions. This saves you a lot of pencil pushing for solving systems of equations and integrals, for example."
   ]
  },
  {
   "cell_type": "code",
   "execution_count": null,
   "metadata": {
    "ExecuteTime": {
     "end_time": "2019-09-25T21:23:49.196124Z",
     "start_time": "2019-09-25T21:23:49.192015Z"
    },
    "collapsed": true,
    "hidden": true
   },
   "outputs": [],
   "source": [
    "import math\n",
    "\n",
    "# Note there are so many functions in sympy that it becomes annoying to write, for example\n",
    "# sympy.sqrt(2). So we just import everything. This can be dangerous, because there might be\n",
    "# name conflicts, so be careful.\n",
    "from sympy import * \n",
    "init_printing(use_latex='mathjax')"
   ]
  },
  {
   "cell_type": "code",
   "execution_count": null,
   "metadata": {
    "ExecuteTime": {
     "end_time": "2019-09-25T21:26:19.200451Z",
     "start_time": "2019-09-25T21:26:19.195007Z"
    },
    "hidden": true
   },
   "outputs": [],
   "source": [
    "# Sympy returns symbolic numbers rather than floating point numbers. \n",
    "\n",
    "print(math.sqrt(2))\n",
    "sqrt(2), type(sqrt(2))"
   ]
  },
  {
   "cell_type": "code",
   "execution_count": null,
   "metadata": {
    "ExecuteTime": {
     "end_time": "2019-09-25T21:26:08.642111Z",
     "start_time": "2019-09-25T21:26:08.637531Z"
    },
    "hidden": true
   },
   "outputs": [],
   "source": [
    "x = Integer(1)\n",
    "x, type(x), type(1)"
   ]
  },
  {
   "cell_type": "code",
   "execution_count": null,
   "metadata": {
    "ExecuteTime": {
     "end_time": "2019-09-25T21:27:19.791967Z",
     "start_time": "2019-09-25T21:27:19.782395Z"
    },
    "hidden": true
   },
   "outputs": [],
   "source": [
    "# You can also work with unknown quantities\n",
    "x, y, z = symbols(\"x y z\")\n",
    "expr = x**2 + 2*y + z\n",
    "expr, expand(expr*expr)"
   ]
  },
  {
   "cell_type": "code",
   "execution_count": null,
   "metadata": {
    "ExecuteTime": {
     "end_time": "2019-09-25T21:27:49.849832Z",
     "start_time": "2019-09-25T21:27:49.844239Z"
    },
    "hidden": true
   },
   "outputs": [],
   "source": [
    "# You can substitute in actual numbers for the variables\n",
    "\n",
    "expr.subs(x,1).subs(y,2)"
   ]
  },
  {
   "cell_type": "code",
   "execution_count": null,
   "metadata": {
    "ExecuteTime": {
     "end_time": "2019-09-25T21:29:58.557609Z",
     "start_time": "2019-09-25T21:29:58.552077Z"
    },
    "hidden": true
   },
   "outputs": [],
   "source": [
    "# You can get a numerical result too\n",
    "\n",
    "a = expr.subs(x,1).subs(y,2).subs(z,3)\n",
    "a, float(a), type(a), type(float(a))"
   ]
  },
  {
   "cell_type": "code",
   "execution_count": null,
   "metadata": {
    "ExecuteTime": {
     "end_time": "2019-09-25T21:31:24.200946Z",
     "start_time": "2019-09-25T21:31:24.187471Z"
    },
    "hidden": true
   },
   "outputs": [],
   "source": [
    "# You can solve equations\n",
    "\n",
    "result = solve([\n",
    "    x + y,\n",
    "    x + 2*z,\n",
    "    y + 3*z -2\n",
    "],[x,y,z])\n",
    "\n",
    "result"
   ]
  },
  {
   "cell_type": "code",
   "execution_count": null,
   "metadata": {
    "ExecuteTime": {
     "end_time": "2019-09-25T21:31:48.168646Z",
     "start_time": "2019-09-25T21:31:48.162343Z"
    },
    "hidden": true
   },
   "outputs": [],
   "source": [
    "# The result of solving a set of equations is a substitution rule. \n",
    "\n",
    "expr.subs(result)"
   ]
  },
  {
   "cell_type": "code",
   "execution_count": null,
   "metadata": {
    "ExecuteTime": {
     "end_time": "2019-09-25T21:33:44.207580Z",
     "start_time": "2019-09-25T21:33:44.202511Z"
    },
    "hidden": true
   },
   "outputs": [],
   "source": [
    "# You can solve limits\n",
    "# This one requires L'Hospital's rule, but sympy figures that out.\n",
    "frac = (x**2 - 16)/(x - 4)\n",
    "limit(frac,x,4)"
   ]
  },
  {
   "cell_type": "code",
   "execution_count": null,
   "metadata": {
    "ExecuteTime": {
     "end_time": "2019-09-25T21:45:49.187430Z",
     "start_time": "2019-09-25T21:45:49.181835Z"
    },
    "hidden": true
   },
   "outputs": [],
   "source": [
    "# You can find deriviates\n",
    "expr = exp(x**2)\n",
    "expr.diff(x)"
   ]
  },
  {
   "cell_type": "code",
   "execution_count": null,
   "metadata": {
    "ExecuteTime": {
     "end_time": "2019-09-25T21:46:51.545198Z",
     "start_time": "2019-09-25T21:46:51.243243Z"
    },
    "hidden": true
   },
   "outputs": [],
   "source": [
    "# You can integrate\n",
    "expr = sin(x)*exp(x)\n",
    "integrate(expr,x)"
   ]
  },
  {
   "cell_type": "code",
   "execution_count": null,
   "metadata": {
    "ExecuteTime": {
     "end_time": "2019-09-25T21:42:44.510346Z",
     "start_time": "2019-09-25T21:42:44.501229Z"
    },
    "hidden": true
   },
   "outputs": [],
   "source": [
    "# You can define differential equations\n",
    "t, l = symbols('t lambda')\n",
    "y = Function('y')(t)\n",
    "dydt = y.diff(t)\n",
    "expr = Eq(dydt, -l*y)\n",
    "expr"
   ]
  },
  {
   "cell_type": "code",
   "execution_count": null,
   "metadata": {
    "ExecuteTime": {
     "end_time": "2019-09-25T21:44:21.088017Z",
     "start_time": "2019-09-25T21:44:20.932866Z"
    },
    "hidden": true
   },
   "outputs": [],
   "source": [
    "# And solve them\n",
    "sol = dsolve(expr, y)\n",
    "sol"
   ]
  },
  {
   "cell_type": "code",
   "execution_count": null,
   "metadata": {
    "ExecuteTime": {
     "end_time": "2019-09-25T21:44:40.841057Z",
     "start_time": "2019-09-25T21:44:40.836437Z"
    },
    "hidden": true
   },
   "outputs": [],
   "source": [
    "# And manipulate the solutions\n",
    "sol.subs(t,0)"
   ]
  },
  {
   "cell_type": "markdown",
   "metadata": {
    "heading_collapsed": true
   },
   "source": [
    "# Typsetting Math in LaTeX"
   ]
  },
  {
   "cell_type": "markdown",
   "metadata": {
    "ExecuteTime": {
     "end_time": "2019-09-25T21:48:17.607747Z",
     "start_time": "2019-09-25T21:48:17.599301Z"
    },
    "collapsed": true,
    "hidden": true
   },
   "source": [
    "\n",
    "- Jupyter notebooks consist of \"cells\" that can be either `Code` or `Markdown`. You can choose which one by selecting the cell and using the menu at the top of the window. \n",
    "\n",
    "- A `Markdown` cell uses the [markdown language](https://github.com/adam-p/markdown-here/wiki/Markdown-Cheatsheet) which is very simple. See the link in the previous sentence for details.\n",
    "\n",
    "- Images can be included in Jupyter notebooks with Markdown as long as you have a URL for you image. \n",
    "    - You can make a diagram in [Google Drawing](https://docs.google.com/drawings)\n",
    "    - You can get a URL for it by clicking File > Publish to the web ...\n",
    "    - Then put your image into a Markdown cell with the syntax `![](https://url.of.your.image)`\n",
    "\n",
    "- Equations can be put in Markdown as well using [Latex](http://tug.ctan.org/info/undergradmath/undergradmath.pdf). Latex code is separated by dollar signs. For example, to write a differential equation you can, you can write \n",
    "\n",
    "    ```latex\n",
    "    $\\dot x = x^2 - 2x$\n",
    "    ```   \n",
    "    which will appear as\n",
    "    \n",
    "    &nbsp; &nbsp; &nbsp;  &nbsp; &nbsp; &nbsp; &nbsp; $\\dot x = x^2 - 2x$\n",
    "        \n",
    "    in the notebook. Use one dollar sign for equations within paragraphs, and two dollar signs, or a latex directive like `begin` for an equation on a line (or lines) of its own.\n",
    "    \n",
    "- Here's a more complicated example\n",
    "\n",
    "    ```latex\n",
    "\\begin{align}\n",
    "    \\int_0^\\infty f'(t) \\; dt & = \\lim_{s \\rightarrow 0} ( s F(s) - f(0) ) \\\\\n",
    "    f(\\infty) - f(0) & = \\lim_{s \\rightarrow 0} s F(s) - f(0) \\\\\n",
    "    f(\\infty) & =  \\lim_{s \\rightarrow 0} s F(s)\n",
    "\\end{align}\n",
    "    ```\n",
    "\n",
    "    which produces\n",
    "   \n",
    "\\begin{align}\n",
    "\\int_0^\\infty f'(t) \\; dt & = \\lim_{s \\rightarrow 0} ( s F(s) - f(0) ) \\\\\n",
    "f(\\infty) - f(0) & = \\lim_{s \\rightarrow 0} s F(s) - f(0) \\\\\n",
    "f(\\infty) & =  \\lim_{s \\rightarrow 0} s F(s)\n",
    "\\end{align}\n",
    "    \n",
    "- And another\n",
    "\n",
    "    ```latex\n",
    "\\begin{align}\n",
    "    \\begin{align}\n",
    "        \\begin{pmatrix}\n",
    "            A & -BK \\\\\n",
    "            LC & A - BK - LC\n",
    "        \\end{pmatrix} \\begin{pmatrix}\n",
    "            {\\bf v} \\\\\n",
    "            {\\bf v}\n",
    "        \\end{pmatrix} & = \\begin{pmatrix}\n",
    "            A{\\bf v} - BK{\\bf v} \\\\\n",
    "            LC{\\bf v} - (A - BK - LC) {\\bf v} \\\\\n",
    "        \\end{pmatrix} \\\\\n",
    "        & = \\begin{pmatrix}\n",
    "            (A - BK){\\bf v} \\\\\n",
    "            (A - BK){\\bf v}\n",
    "        \\end{pmatrix}  \\\\\n",
    "        & = \\lambda \\begin{pmatrix}\n",
    "            {\\bf v} \\\\\n",
    "            {\\bf v}\n",
    "        \\end{pmatrix} .\n",
    "    \\end{align}\n",
    "\\end{align}\n",
    "    ```\n",
    "\n",
    "    which produces\n",
    "   \n",
    "\n",
    "\\begin{align}\n",
    "\\begin{pmatrix}\n",
    "A & -BK \\\\\n",
    "LC & A - BK - LC\n",
    "\\end{pmatrix} \\begin{pmatrix}\n",
    "{\\bf v} \\\\\n",
    "{\\bf v}\n",
    "\\end{pmatrix} & = \\begin{pmatrix}\n",
    "A{\\bf v} - BK{\\bf v} \\\\\n",
    "LC{\\bf v} - (A - BK - LC) {\\bf v} \\\\\n",
    "\\end{pmatrix} \\\\\n",
    "& = \\begin{pmatrix}\n",
    "(A - BK){\\bf v} \\\\\n",
    "(A - BK){\\bf v}\n",
    "\\end{pmatrix}  \\\\\n",
    "& = \\lambda \\begin{pmatrix}\n",
    "{\\bf v} \\\\\n",
    "{\\bf v}\n",
    "\\end{pmatrix} .\n",
    "\\end{align}\n"
   ]
  },
  {
   "cell_type": "code",
   "execution_count": null,
   "metadata": {
    "collapsed": true,
    "hidden": true
   },
   "outputs": [],
   "source": []
  }
 ],
 "metadata": {
  "kernelspec": {
   "display_name": "Python 3",
   "language": "python",
   "name": "python3"
  },
  "language_info": {
   "codemirror_mode": {
    "name": "ipython",
    "version": 3
   },
   "file_extension": ".py",
   "mimetype": "text/x-python",
   "name": "python",
   "nbconvert_exporter": "python",
   "pygments_lexer": "ipython3",
   "version": "3.6.1"
  }
 },
 "nbformat": 4,
 "nbformat_minor": 2
}
